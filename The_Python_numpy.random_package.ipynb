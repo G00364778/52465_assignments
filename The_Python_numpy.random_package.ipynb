{
 "cells": [
  {
   "cell_type": "markdown",
   "metadata": {},
   "source": [
    "# The Python numpy.random package <a class=\"ancor\" id=\"top\"/>"
   ]
  },
  {
   "cell_type": "markdown",
   "metadata": {},
   "source": [
    "## Table of Contents <a class=\"ancor\" id=\"toc\"/>\n",
    "\n",
    "1. [The Purpose of the numpy.random package](#purpose-of-random)\n",
    "1. [The Use of Random data](#use-of-random)\n",
    "1. [The Use of Permutations](#use-of-permutations)\n",
    "1. [The Use of Distributions](#use-of-dist)\n",
    " 1. [Laplace](#dist-laplace)\n",
    " 1. [Binomial](#dist-binomial)\n",
    " 1. [Exponential](#dist-exponential)\n",
    " 1. [Log](#dist-log)\n",
    " 1. [Student-t](#dist-student-t)\n",
    " 1. [Zipf](#dist-zipf)\n",
    "1. [The Use of Seeds](#use-of-seeds)\n",
    "1. [Lessons Learned](#lessons-learned)\n",
    "1. [References](#reference-list)"
   ]
  },
  {
   "cell_type": "markdown",
   "metadata": {},
   "source": [
    "## The Purpose of the numpy.random package <a class=\"ancor\" id=\"purpose-of-random\"/>\n",
    "\n",
    "The purpose of a random number generator is to generate a number or sequence of numbers that cannot be reasonably predicted better than that by random chance. \n",
    "\n",
    "Random number generators have applications in gambling, statistical sampling, computer simulations, cryptography and randomised experimental design.\n",
    "\n",
    "The earliest methods of random number generators were dice, spinners, wheel of fortune, roulette, etc., cards, drawing straws, tea leaves, flipping coins, pulling from a set of items in a bag, hat, etc.\n",
    "\n",
    "The general purpose of the numpy.random package is to generate various types and distributions of datasets that can be used in development and evaluation and used in the exploration of various libraries and analytical methods. It provides the developer with a clear understanding of the dataset prior to analysis, to explore analytical methods and derive the very variables initially used to create a dataset and deduce them again from the dataset using analyses and analytical methods and libraries. \n",
    "\n",
    "[Back](#top)"
   ]
  },
  {
   "cell_type": "markdown",
   "metadata": {},
   "source": [
    " ## The Use of Simple Random data <a class=\"ancor\" id=\"use-of-random\"/>\n",
    "\n",
    "The sample random data functions generate sequences of random numbers without considering any criteria, like distribution. \n",
    "\n",
    "Permutations acts upon a dataset in one of two fashions, it shuffles the dataset by acting upon it directly or by creating a shuffled copy of the set using the permutation function.\n",
    "\n",
    "One practical real world use case would be that of simulating the roll of a six sided dice thousands of times as illustrated below."
   ]
  },
  {
   "cell_type": "code",
   "execution_count": 1,
   "metadata": {},
   "outputs": [],
   "source": [
    "import numpy.random as rnd\n",
    "import matplotlib.pyplot as pl\n",
    "import seaborn as sns\n",
    "%matplotlib inline\n",
    "\n",
    "def diceroll ():\n",
    "    import numpy.random as rnd\n",
    "    dice=['one','two','three','four','five','six']\n",
    "    return rnd.choice(dice)\n"
   ]
  },
  {
   "cell_type": "code",
   "execution_count": 2,
   "metadata": {},
   "outputs": [
    {
     "data": {
      "image/png": "[encoded data removed]",
      "text/plain": [
       "<Figure size 432x288 with 1 Axes>"
      ]
     },
     "metadata": {
      "needs_background": "light"
     },
     "output_type": "display_data"
    }
   ],
   "source": [
    "dicerolls=[diceroll() for i in range(100)]\n",
    "sns.countplot(dicerolls)\n",
    "pl.show()"
   ]
  },
  {
   "cell_type": "code",
   "execution_count": 3,
   "metadata": {},
   "outputs": [
    {
     "data": {
      "image/png": "[encoded data removed]",
      "text/plain": [
       "<Figure size 432x288 with 1 Axes>"
      ]
     },
     "metadata": {
      "needs_background": "light"
     },
     "output_type": "display_data"
    }
   ],
   "source": [
    "dicerolls=[diceroll() for i in range(1000)]\n",
    "sns.countplot(dicerolls)\n",
    "pl.show()"
   ]
  },
  {
   "cell_type": "code",
   "execution_count": 4,
   "metadata": {},
   "outputs": [
    {
     "data": {
      "image/png": "[encoded data removed]",
      "text/plain": [
       "<Figure size 432x288 with 1 Axes>"
      ]
     },
     "metadata": {
      "needs_background": "light"
     },
     "output_type": "display_data"
    }
   ],
   "source": [
    "dicerolls=[diceroll() for i in range(100000)]\n",
    "sns.countplot(dicerolls)\n",
    "pl.show()"
   ]
  },
  {
   "cell_type": "markdown",
   "metadata": {},
   "source": [
    "The numpy.random.choice function is used to randomly select one of the six sides of the dice and then to run this process through thousands of cycles to test the distribution for the randomness of the function.\n",
    "\n",
    "The really interesting observation of a very simple experiment like this immediately shows the impact of the statistical sample and the corresponding differences in the distributions. With really big test samples the statistical differences becomes negligible. \n",
    "\n",
    "[Back](#top)"
   ]
  },
  {
   "cell_type": "markdown",
   "metadata": {},
   "source": [
    "## The use of Permutations <a class=\"ancor\" id=\"use-of-permutations\"/>\n",
    "\n",
    "Permutations can be illustrated on the dice object illustrated in the exercise above."
   ]
  },
  {
   "cell_type": "code",
   "execution_count": 5,
   "metadata": {},
   "outputs": [
    {
     "data": {
      "text/plain": [
       "['one', 'two', 'three', 'four', 'five', 'six']"
      ]
     },
     "execution_count": 5,
     "metadata": {},
     "output_type": "execute_result"
    }
   ],
   "source": [
    "dice=['one','two','three','four','five','six']\n",
    "dice"
   ]
  },
  {
   "cell_type": "markdown",
   "metadata": {},
   "source": [
    "The dice object appears in the fixed sequence it was created in previously."
   ]
  },
  {
   "cell_type": "code",
   "execution_count": 6,
   "metadata": {},
   "outputs": [
    {
     "data": {
      "text/plain": [
       "array(['six', 'five', 'one', 'two', 'four', 'three'], dtype='<U5')"
      ]
     },
     "execution_count": 6,
     "metadata": {},
     "output_type": "execute_result"
    }
   ],
   "source": [
    "rnd.permutation(dice)"
   ]
  },
  {
   "cell_type": "code",
   "execution_count": 8,
   "metadata": {},
   "outputs": [
    {
     "data": {
      "text/plain": [
       "['three', 'four', 'five', 'six', 'two', 'one']"
      ]
     },
     "execution_count": 8,
     "metadata": {},
     "output_type": "execute_result"
    }
   ],
   "source": [
    "dice"
   ]
  },
  {
   "cell_type": "markdown",
   "metadata": {},
   "source": [
    "So the permutation of dice create a new permuted sequence, but the original object dice remains intact.\n",
    "\n",
    "Now we run shuffle on the same object dice."
   ]
  },
  {
   "cell_type": "code",
   "execution_count": 7,
   "metadata": {},
   "outputs": [
    {
     "name": "stdout",
     "output_type": "stream",
     "text": [
      "['three', 'four', 'five', 'six', 'two', 'one']\n"
     ]
    }
   ],
   "source": [
    " rnd.shuffle(dice)\n",
    " print(dice)"
   ]
  },
  {
   "cell_type": "markdown",
   "metadata": {},
   "source": [
    "Now the dice object content was permanently shuffled to be in a new random order.\n",
    "\n",
    "[Back](#top)"
   ]
  },
  {
   "cell_type": "markdown",
   "metadata": {},
   "source": [
    "## The use of distributions <a class=\"ancor\" id=\"use-of-dist\"/>"
   ]
  },
  {
   "cell_type": "markdown",
   "metadata": {},
   "source": [
    "### Laplace Distribution <a class=\"ancor\" id=\"dist-laplace\"/>\n",
    "\n",
    "<img style=\"float: left; margin: 0px 15px 0px 0px;\" src=\"https://upload.wikimedia.org/wikipedia/commons/9/91/Pierre-Simon-Laplace_%281749-1827%29.jpg\" alt=\"Piere Laplace\" title=\"Piere Laplace\" />The Laplace distribution was named after Pierre-Simon Laplace who was a prominent French mathematical physicist and astronomer of the 19th century, who made crucial contributions in the arena of planetary motion by applying Sir Isaac Newton’s theory of gravitation to the entire solar system. His work regarding the theory of probability and statistics is considered pioneering and has influenced a whole new generation of mathematicians.\n",
    "\n",
    "The Laplace distribution is similar to the Gaussian/normal distribution, but is sharper at the peak and has fatter tails. It represents the difference between two independent, identically distributed exponential random variables.\n",
    "\n",
    "The normal distribution sometimes also referred to as the Gaussian distribution recognisable by the distinctive bell shape. A distinguishing feature of the Laplace distribution is its tails, which are fatter than the normal distribution’s. \n",
    "\n",
    "The Laplace distribution (given after the name of Pierre-Laplace) is a distribution which again like the t-distribution can be used for robustness to outliers due to fatter tails. It is also called double exponential distribution due to being made up from 2 exponential functions. What is interesting about it is that it is quite similar to the Gaussian. Instead of mean (μ) and standard deviation (σ), Laplace has location (also μ) and diversity (b).\n"
   ]
  },
  {
   "cell_type": "code",
   "execution_count": 10,
   "metadata": {},
   "outputs": [
    {
     "data": {
      "text/plain": [
       "[<matplotlib.lines.Line2D at 0x280c6ebb208>]"
      ]
     },
     "execution_count": 10,
     "metadata": {},
     "output_type": "execute_result"
    },
    {
     "data": {
      "image/png": "[encoded data removed]",
      "text/plain": [
       "<Figure size 432x288 with 1 Axes>"
      ]
     },
     "metadata": {
      "needs_background": "light"
     },
     "output_type": "display_data"
    }
   ],
   "source": [
    "import numpy.random as rnd\n",
    "import matplotlib.pyplot as pl\n",
    "import numpy as np\n",
    "%matplotlib inline\n",
    "\n",
    "loc, scale = 0., 1. # set location and diversity\n",
    "s = rnd.laplace(loc, scale, 1000) # generate a random set \n",
    "count, bins, ignored = pl.hist(s, 30, density=True)\n",
    "\n",
    "x = np.arange(-8., 8., .01) # creat a list of x values\n",
    "pdf = np.exp(-abs(x-loc)/scale)/(2.*scale) #pdf - probability density function\n",
    "pl.plot(x, pdf)\n",
    "#gausian for comparisom in green\n",
    "g = (1/(scale * np.sqrt(2 * np.pi)) *np.exp(-(x - loc)**2 / (2 * scale**2)))\n",
    "pl.plot(x,g)\n",
    "#pl.show()"
   ]
  },
  {
   "cell_type": "markdown",
   "metadata": {},
   "source": [
    "[Back](#top)"
   ]
  },
  {
   "cell_type": "markdown",
   "metadata": {},
   "source": [
    "### Binomial Distribution <a class=\"ancor\" id=\"dist-binomial\"/>\n",
    "\n",
    "Selecting a binomial for distribution for discussion was supposed to be easy, however the library function outputs required some more code to convert the outputs into data values useful in a plot. Also tweaking the parameters is not that trivial to produce a very binomial looking dataset, it more closely resembles a normal or Gaussian distribution until a sufficiently big dataset was produced to shift everything to the left."
   ]
  },
  {
   "cell_type": "code",
   "execution_count": 9,
   "metadata": {},
   "outputs": [
    {
     "data": {
      "image/png": "[encoded data removed]",
      "text/plain": [
       "<Figure size 432x288 with 1 Axes>"
      ]
     },
     "metadata": {
      "needs_background": "light"
     },
     "output_type": "display_data"
    }
   ],
   "source": [
    "import collections                         # for counting the 30k cycle results \n",
    "import matplotlib.pyplot as pl\n",
    "import numpy.random as rnd\n",
    "import seaborn as sns\n",
    "import pandas as pd\n",
    "import numpy as np\n",
    "%matplotlib inline\n",
    "\n",
    "a=np.random.binomial(99, 0.073, 30000)     # generate a binomial distribution with a 7.3% probability over 99 tests\n",
    "b=collections.Counter(a)                   # count the number of occurances of the values generated in a over 30k cycles\n",
    "c=b.most_common()                          # sort by most common and create a list for use in graph\n",
    "df=pd.DataFrame(c,columns=['val','count']) # convet the list to a dataframe for ease of use with seaborn with labels etc\n",
    "sns.barplot('val','count',data=df)         # generate the plot\n",
    "pl.show()"
   ]
  },
  {
   "cell_type": "markdown",
   "metadata": {},
   "source": [
    "Having being forced in a way to work through the logic of generating the plot and generating appropriate data to do so, resulted in a deeper understanding of the fundamentals behind the graph and graph data by playing around with the random.binomial parameters.\n",
    "\n",
    "rnd.binomial(n, p, size=None)\n",
    "\n",
    "\n",
    "n - trials \n",
    "\n",
    "p - probability\n",
    "\n",
    "size - size of set \n",
    "\n",
    "[Back](#top)"
   ]
  },
  {
   "cell_type": "markdown",
   "metadata": {},
   "source": [
    "### Exponential Distribution <a class=\"ancor\" id=\"dist-exponential\"/>"
   ]
  },
  {
   "cell_type": "code",
   "execution_count": 11,
   "metadata": {},
   "outputs": [
    {
     "data": {
      "text/plain": [
       "<matplotlib.axes._subplots.AxesSubplot at 0x280c6dfaba8>"
      ]
     },
     "execution_count": 11,
     "metadata": {},
     "output_type": "execute_result"
    },
    {
     "data": {
      "image/png": "[encoded data removed]",
      "text/plain": [
       "<Figure size 432x288 with 1 Axes>"
      ]
     },
     "metadata": {
      "needs_background": "light"
     },
     "output_type": "display_data"
    }
   ],
   "source": [
    "import warnings\n",
    "warnings.simplefilter(action='ignore', category=FutureWarning)\n",
    "import numpy as np\n",
    "import matplotlib.pyplot as pl\n",
    "import seaborn as sns\n",
    "%matplotlib inline\n",
    "\n",
    "e=np.random.exponential(1,100000)\n",
    "sns.distplot(e)"
   ]
  },
  {
   "cell_type": "markdown",
   "metadata": {},
   "source": [
    "[Back](#top)"
   ]
  },
  {
   "cell_type": "markdown",
   "metadata": {},
   "source": [
    "### Log Distribution <a class=\"ancor\" id=\"dist-log\"/>"
   ]
  },
  {
   "cell_type": "markdown",
   "metadata": {},
   "source": [
    "Again the expectation was to generate a dataset using the __np.randowm.lognormal__ function and and simply plot the data output.\n",
    "\n",
    "When generating a bunch of numbers and sorting them by size it follows a logarithmic curve one would expect to get but getting a log distribution graph, resembling what is shown in the literature, takes a very different approach even in the python random log distribution documentation discussion."
   ]
  },
  {
   "cell_type": "code",
   "execution_count": 12,
   "metadata": {},
   "outputs": [
    {
     "data": {
      "image/png": "[encoded data removed]",
      "text/plain": [
       "<Figure size 432x288 with 1 Axes>"
      ]
     },
     "metadata": {
      "needs_background": "light"
     },
     "output_type": "display_data"
    }
   ],
   "source": [
    "# Generate a thousand samples: each is the product of 100 random\n",
    "# values, drawn from a normal distribution.\n",
    "\n",
    "import numpy as np\n",
    "import matplotlib.pyplot as pl\n",
    "import seaborn as sns\n",
    "%matplotlib inline\n",
    "\n",
    "b = []\n",
    "for i in range(1000): # generate a set of 1000 really big random numbers 1.0475083199045841e+102\n",
    "    a = 10. + np.random.random(100)\n",
    "    b.append(np.product(a))\n",
    "\n",
    "b = np.array(b) / np.min(b) # scale values to range 0-2 roughly, so bigger than 0 and smaller than 2\n",
    "count, bins, ignored = pl.hist(b, 100, density=True, align='mid') # create a histogram plot and save the conts and bins values\n",
    "sigma = np.std(np.log(b)) # generate the log values of the array b and then calculate the standard deviation of the set\n",
    "mu = np.mean(np.log(b)) # generate the log mean of the set\n",
    "\n",
    "x = np.linspace(min(bins), max(bins), 10000) # generate evenly spaced number for the x-axis of the graph\n",
    "pdf = (np.exp(-(np.log(x) - mu)**2 / (2 * sigma**2)) # calculate the probability density function\n",
    "        / (x * sigma * np.sqrt(2 * np.pi)))\n",
    "\n",
    "pl.plot(x, pdf, color='r', linewidth=2) # plot the pdf in red over the histogram\n",
    "pl.show()"
   ]
  },
  {
   "cell_type": "markdown",
   "metadata": {},
   "source": [
    "[Back](#top)"
   ]
  },
  {
   "cell_type": "markdown",
   "metadata": {},
   "source": [
    "### Student-t Distribution <a class=\"ancor\" id=\"dist-student-t\"/>\n",
    "\n",
    "The distinguishing feature of the t-distribution are its tails, which are fatter than the normal distribution’s. If the fat-tail reference does'nt get your attention then maybe the mildly-interesting back-story concerning beer might get your attention. \n",
    "\n",
    "Over 100 years ago, Guinness was using statistics to make better stout. There, William Sealy Gosset developed some whole new stats theory just to grow better barley. Gosset convinced the boss that the other brewers couldn’t figure out how to use the ideas, and so got permission to publish, but only under the pen name “Student”. Gosset’s best-known result is this t-distribution, which is sort of named after him. \n",
    " \n",
    "It is like the Gaussian distribution. Easy to remember - think 't'  for fatter tails; a Gaussian with fatter tails. It is a probability  distribution that is used to estimate population parameters when the  sample size is small and/or when the population variance is unknown.  Plus, it keeps outliers in mind too. Thereby, is more robust than the  Gaussian distribution. The t-distribution's properties start to resemble  the Gaussian when the degrees of freedom are high."
   ]
  },
  {
   "cell_type": "code",
   "execution_count": 13,
   "metadata": {},
   "outputs": [
    {
     "data": {
      "text/plain": [
       "<matplotlib.axes._subplots.AxesSubplot at 0x280c6f5d390>"
      ]
     },
     "execution_count": 13,
     "metadata": {},
     "output_type": "execute_result"
    },
    {
     "data": {
      "image/png": "[encoded data removed]",
      "text/plain": [
       "<Figure size 432x288 with 1 Axes>"
      ]
     },
     "metadata": {
      "needs_background": "light"
     },
     "output_type": "display_data"
    }
   ],
   "source": [
    "import matplotlib.pyplot as pl\n",
    "import numpy.random as rnd\n",
    "import seaborn as sns\n",
    "%matplotlib inline\n",
    "\n",
    "t=rnd.standard_t(10,1000)\n",
    "sns.distplot(t)"
   ]
  },
  {
   "cell_type": "markdown",
   "metadata": {},
   "source": [
    "[Back](#top)"
   ]
  },
  {
   "cell_type": "markdown",
   "metadata": {},
   "source": [
    "### Zipf Distribution <a class=\"ancor\" id=\"dist-zipf\"/>\n",
    "\n",
    "<img style=\"float: left; margin: 0px 15px 0px 0px;\" src=\"https://upload.wikimedia.org/wikipedia/commons/c/c6/George_Kingsley_Zipf_1917.jpg\" alt=\"George Kingsley Zipf\" title=\"George Kingsley Zipf\" />The last distribution and probably the most interesting one for me, is the Zipf distribution.\n",
    "\n",
    "My personal fascination with Zipf was from before my exposure to data analytics when I first heard about the the applicability of the  distribution on popularity of things like the most popular video on Youtube or the distribution of wealth to name a few applicable examples. So in order to factor on any scale of life on a personal level, it is a simple question of getting involved and becoming part of the statistics or sit on the side and not be counted at all. The same analogy can be applied for example to a snowball rolling down the hill exponentially growing, so the most popular video on Youtube was once a tiny snowball that had to pick up the momentum to be twice as large as the next biggest success. \n",
    "\n",
    "Zipf's law states that given some corpus of natural language utterances, the frequency of any word is inversely proportional to its rank in the frequency table. Thus the most frequent word will occur approximately twice as often as the second most frequent word, three times as often as the third most frequent word, etc.: the rank-frequency distribution is an inverse relation. For example, in the Brown Corpus of American English text, the word __the__ is the most frequently occurring word, and by itself accounts for nearly 7% of all word occurrences (69,971 out of slightly over 1 million). True to Zipf's Law, the second-place word __of__ accounts for slightly over 3.5% of words (36,411 occurrences), followed by __and__ (28,852). Only 135 vocabulary items are needed to account for half the Brown Corpus.\n",
    "\n",
    "So instead of starting by generating random data, I wanted to explore a more interesting approach by generating a Zipf dataset from a book and test the result from first principle. To simplify the process I looked for a book is text source and stumbled upon __[Ulyses by the James Joyce](data/ulyses_by_james_joyce.txt)__  by James Joyce. So started the process to extract the statistics from first principle and compare the dataset with the law defined by Zipf."
   ]
  },
  {
   "cell_type": "markdown",
   "metadata": {},
   "source": [
    "#### Generating a wordlist\n",
    "\n",
    "So the text from the book is read into a word list line by line, parsed into individual words and stripped of all spaces, punctuation and case."
   ]
  },
  {
   "cell_type": "code",
   "execution_count": 2,
   "metadata": {},
   "outputs": [],
   "source": [
    "import seaborn as sns\n",
    "from collections import Counter as counter\n",
    "import matplotlib.pyplot as pl\n",
    "import pandas as pd\n",
    "%matplotlib inline"
   ]
  },
  {
   "cell_type": "code",
   "execution_count": 3,
   "metadata": {},
   "outputs": [],
   "source": [
    "wordlist=[]\n",
    "with open('data/ulyses_by_james_joyce.txt', 'r', encoding='utf-8') as infile:\n",
    "    for line in infile:\n",
    "        words=line.strip().split()\n",
    "        for word in words:\n",
    "            wordlist.append(word.casefold().strip('[,:.]'))"
   ]
  },
  {
   "cell_type": "code",
   "execution_count": 16,
   "metadata": {},
   "outputs": [
    {
     "name": "stdout",
     "output_type": "stream",
     "text": [
      "Words in book: 268,132\n"
     ]
    }
   ],
   "source": [
    "print('Words in book: {:,}'.format(len(wordlist)))"
   ]
  },
  {
   "cell_type": "markdown",
   "metadata": {},
   "source": [
    "The resulting word list of almost 270 thousand is then counted by word usage and a complete list of counted word generated for the entire book."
   ]
  },
  {
   "cell_type": "code",
   "execution_count": 14,
   "metadata": {},
   "outputs": [
    {
     "name": "stdout",
     "output_type": "stream",
     "text": [
      "Unique words in book: 34,986\n"
     ]
    }
   ],
   "source": [
    "wordcount=counter(wordlist)\n",
    "print('Unique words in book: {:,}'.format(len(wordcount)))"
   ]
  },
  {
   "cell_type": "markdown",
   "metadata": {},
   "source": [
    "The result is almost 35 thousand unique words that is then sorted by the most frequent occurrence and arranged in a data frame for display and graphing purposes."
   ]
  },
  {
   "cell_type": "code",
   "execution_count": 10,
   "metadata": {},
   "outputs": [],
   "source": [
    "most_common=wordcount.most_common()"
   ]
  },
  {
   "cell_type": "markdown",
   "metadata": {},
   "source": [
    "The most common word and count of the words are then assembled in a data frame __df__."
   ]
  },
  {
   "cell_type": "markdown",
   "metadata": {},
   "source": [
    "#### Creating tables and plots"
   ]
  },
  {
   "cell_type": "code",
   "execution_count": 6,
   "metadata": {},
   "outputs": [
    {
     "data": {
      "text/html": [
       "<div>\n",
       "<style scoped>\n",
       "    .dataframe tbody tr th:only-of-type {\n",
       "        vertical-align: middle;\n",
       "    }\n",
       "\n",
       "    .dataframe tbody tr th {\n",
       "        vertical-align: top;\n",
       "    }\n",
       "\n",
       "    .dataframe thead th {\n",
       "        text-align: right;\n",
       "    }\n",
       "</style>\n",
       "<table border=\"1\" class=\"dataframe\">\n",
       "  <thead>\n",
       "    <tr style=\"text-align: right;\">\n",
       "      <th></th>\n",
       "      <th>0</th>\n",
       "      <th>1</th>\n",
       "      <th>2</th>\n",
       "      <th>3</th>\n",
       "      <th>4</th>\n",
       "      <th>5</th>\n",
       "      <th>6</th>\n",
       "      <th>7</th>\n",
       "      <th>8</th>\n",
       "      <th>9</th>\n",
       "      <th>10</th>\n",
       "      <th>11</th>\n",
       "      <th>12</th>\n",
       "      <th>13</th>\n",
       "      <th>14</th>\n",
       "    </tr>\n",
       "  </thead>\n",
       "  <tbody>\n",
       "    <tr>\n",
       "      <th>words</th>\n",
       "      <td>the</td>\n",
       "      <td>of</td>\n",
       "      <td>and</td>\n",
       "      <td>a</td>\n",
       "      <td>to</td>\n",
       "      <td>in</td>\n",
       "      <td>he</td>\n",
       "      <td>his</td>\n",
       "      <td>i</td>\n",
       "      <td>that</td>\n",
       "      <td>with</td>\n",
       "      <td>it</td>\n",
       "      <td>was</td>\n",
       "      <td>on</td>\n",
       "      <td>for</td>\n",
       "    </tr>\n",
       "    <tr>\n",
       "      <th>counts</th>\n",
       "      <td>14888</td>\n",
       "      <td>8244</td>\n",
       "      <td>7198</td>\n",
       "      <td>6442</td>\n",
       "      <td>4983</td>\n",
       "      <td>4887</td>\n",
       "      <td>3752</td>\n",
       "      <td>3292</td>\n",
       "      <td>2527</td>\n",
       "      <td>2523</td>\n",
       "      <td>2506</td>\n",
       "      <td>2246</td>\n",
       "      <td>2117</td>\n",
       "      <td>2105</td>\n",
       "      <td>1928</td>\n",
       "    </tr>\n",
       "  </tbody>\n",
       "</table>\n",
       "</div>"
      ],
      "text/plain": [
       "           0     1     2     3     4     5     6     7     8     9     10  \\\n",
       "words     the    of   and     a    to    in    he   his     i  that  with   \n",
       "counts  14888  8244  7198  6442  4983  4887  3752  3292  2527  2523  2506   \n",
       "\n",
       "          11    12    13    14  \n",
       "words     it   was    on   for  \n",
       "counts  2246  2117  2105  1928  "
      ]
     },
     "execution_count": 6,
     "metadata": {},
     "output_type": "execute_result"
    }
   ],
   "source": [
    "words=[];counts=[]\n",
    "\n",
    "for word,count in most_common:\n",
    "    words.append(word); counts.append(count)\n",
    "df=pd.DataFrame({'words': words,'counts': counts});df.T"
   ]
  },
  {
   "cell_type": "markdown",
   "metadata": {},
   "source": [
    "So true to Zipfs findings the three top words are __the__, __of__ and __and__. The percentages in Ziphs findings are substantially(about 6 times) higher, but can be explained by the much smaller size of the dataset used here, i.e. 30 thousand vs one million. "
   ]
  },
  {
   "cell_type": "code",
   "execution_count": 21,
   "metadata": {},
   "outputs": [
    {
     "data": {
      "image/png": "[encoded data removed]",
      "text/plain": [
       "<Figure size 1296x504 with 1 Axes>"
      ]
     },
     "metadata": {
      "needs_background": "light"
     },
     "output_type": "display_data"
    }
   ],
   "source": [
    "pl_size = (18, 7) # set the graph size\n",
    "fig, ax = pl.subplots(figsize=pl_size)\n",
    "sns.barplot(ax=ax,x=words,y=counts, palette=\"deep\", data=df)\n",
    "pl.show()"
   ]
  },
  {
   "cell_type": "markdown",
   "metadata": {},
   "source": [
    "Although not a perfect Ziphian distribution from the third term onward, it follows the pattern of most such distributions typically derived on smaller datasets and compared to the set randomly generated below."
   ]
  },
  {
   "cell_type": "code",
   "execution_count": 22,
   "metadata": {},
   "outputs": [
    {
     "data": {
      "text/plain": [
       "(array([26904.,   911.,   581.,   392.,   271.,   264.,   205.,   175.,\n",
       "          151.,   146.]),\n",
       " array([1.00000000e+00, 2.14417784e+08, 4.28835566e+08, 6.43253348e+08,\n",
       "        8.57671131e+08, 1.07208891e+09, 1.28650670e+09, 1.50092448e+09,\n",
       "        1.71534226e+09, 1.92976004e+09, 2.14417783e+09]),\n",
       " <a list of 10 Patch objects>)"
      ]
     },
     "execution_count": 22,
     "metadata": {},
     "output_type": "execute_result"
    },
    {
     "data": {
      "image/png": "[encoded data removed]",
      "text/plain": [
       "<Figure size 432x288 with 1 Axes>"
      ]
     },
     "metadata": {
      "needs_background": "light"
     },
     "output_type": "display_data"
    }
   ],
   "source": [
    "import numpy.random as rnd\n",
    "import matplotlib.pyplot as pl\n",
    "%matplotlib inline\n",
    "\n",
    "z=rnd.zipf(1.0001,30000)\n",
    "pl.hist(z)"
   ]
  },
  {
   "cell_type": "markdown",
   "metadata": {},
   "source": [
    "The random generated Zipf distribution makes a huge jump from first place to the second. My simplified expected outcome of the perfect Zipf distribution would simply be a series from 1,1/2,1/3 etc.\n",
    "\n",
    "The simplified expected results is generated below."
   ]
  },
  {
   "cell_type": "code",
   "execution_count": 23,
   "metadata": {},
   "outputs": [],
   "source": [
    "import numpy.random as rnd\n",
    "import numpy as np\n",
    "import matplotlib.pyplot as pl\n",
    "%matplotlib inline\n",
    "\n",
    "sz=[1/i for i in range(1,31)] # 1/1,1/2,1/3 ..."
   ]
  },
  {
   "cell_type": "code",
   "execution_count": 24,
   "metadata": {},
   "outputs": [
    {
     "data": {
      "text/plain": [
       "<BarContainer object of 30 artists>"
      ]
     },
     "execution_count": 24,
     "metadata": {},
     "output_type": "execute_result"
    },
    {
     "data": {
      "image/png": "[encoded data removed]",
      "text/plain": [
       "<Figure size 432x288 with 1 Axes>"
      ]
     },
     "metadata": {
      "needs_background": "light"
     },
     "output_type": "display_data"
    }
   ],
   "source": [
    "idx=np.arange(len(sz))\n",
    "pl.bar(idx,sz)"
   ]
  },
  {
   "cell_type": "markdown",
   "metadata": {},
   "source": [
    "The graph above would be my perfect textbook zipf distribution, at least in my understanding of the literature on the topic.\n",
    "\n",
    "[Back](#top)"
   ]
  },
  {
   "cell_type": "markdown",
   "metadata": {},
   "source": [
    "## The use of seeds  <a class=\"ancor\" id=\"use-of-seeds\"/>\n",
    "\n",
    "Seeds are used to generate repeatable random sequences. The two short pieces of code illustrates the use of the random generator with or without seeds."
   ]
  },
  {
   "cell_type": "code",
   "execution_count": 19,
   "metadata": {},
   "outputs": [
    {
     "data": {
      "text/plain": [
       "array([0.82684645, 0.45754801, 0.86121993, 0.92949752, 0.40658202])"
      ]
     },
     "execution_count": 19,
     "metadata": {},
     "output_type": "execute_result"
    }
   ],
   "source": [
    "import numpy.random as rnd\n",
    "rnd.seed(89810064)\n",
    "rnd.random(5)"
   ]
  },
  {
   "cell_type": "markdown",
   "metadata": {},
   "source": [
    "The seeded generator will always produce and reproduce the same sequence after the call to seed and using the same seeded value. \n",
    "\n",
    "Sp for the specific code and seed above the values will always be [0.82684645, 0.45754801, 0.86121993, 0.92949752, 0.40658202]"
   ]
  },
  {
   "cell_type": "code",
   "execution_count": 32,
   "metadata": {},
   "outputs": [
    {
     "data": {
      "text/plain": [
       "array([0.33457736, 0.67335818, 0.18300096, 0.13224331, 0.91449696])"
      ]
     },
     "execution_count": 32,
     "metadata": {},
     "output_type": "execute_result"
    }
   ],
   "source": [
    "import numpy.random as rnd\n",
    "#rnd.seed(89810064)\n",
    "rnd.random(5)"
   ]
  },
  {
   "cell_type": "markdown",
   "metadata": {},
   "source": [
    "The unseeded random generator will always generate a completely new sequence. \n",
    "\n",
    "[Back](#top)"
   ]
  },
  {
   "cell_type": "markdown",
   "metadata": {},
   "source": [
    "## Lessons learned  <a class=\"ancor\" id=\"lessons-learned\"/>\n",
    "\n",
    "So really the big takeaway from this exercise in testing distributions is that the penny dropped at last and that the numpy random libraries  generates datasets that needs to be measured for their distributions using a distribution function and can also be overlaid with a distribution trend line. \n",
    "\n",
    "There are two ways to test the distribution, in multiple steps as shown in the Laplace and Log distributions or on a single step using the __seaborn.distplot__ function.\n",
    "\n",
    "The multiple step approach can be summarised as follow:\n",
    "\n",
    "- Create or load a dataset\n",
    "- Generate a histogram plot and save the values of the bins and the edges of the bins.\n",
    "- Calculate the variables for the PDF for example, sigma and mu for log.\n",
    "- Calculate the PDF\n",
    "- Plot the PDF\n",
    "- Render/display the graph\n",
    "\n",
    "In comparison to using the seaborn libary:\n",
    "\n",
    "- Generate or load the dataset\n",
    "- Dreate a seaborn distplot\n",
    "- Render/display\n",
    "\n",
    "There is value in understanding the PDF generation and the breakdown of steps, but once understood the seaborn approach makes it all so much easier.\n",
    "\n",
    "[Back](#top)"
   ]
  },
  {
   "cell_type": "markdown",
   "metadata": {},
   "source": [
    "\n",
    "## References  <a class=\"ancor\" id=\"reference-list\"/>\n",
    "\n",
    "1. __[Numpy reference manual - numpy.random](https://docs.scipy.org/doc/numpy-1.15.1/reference/routines.random.html)__\n",
    "1. __[Cosmo Learning Video - Lecture 18 - Python Random Numbers](https://cosmolearning.org/video-lectures/python-random-number-generator-random-module/)__\n",
    "1. __[rando.Random vs numpy.Random](https://stackoverflow.com/questions/7029993/differences-between-numpy-random-and-random-random-in-python)__\n",
    "1. __[Quora - The most interesting probability distributions](https://www.quora.com/What-are-some-of-the-most-interesting-probability-distributions)__\n",
    "1. __[Introduction to Normal Distributions](http://onlinestatbook.com/2/normal_distribution/intro.html)__\n",
    "1. __[HDIP Probabbility Distributions Summary](http://hdip-data-analytics.com/statistics/distributions)__\n",
    "1. __[Common Probability Distributions](http://blog.cloudera.com/blog/2015/12/common-probability-distributions-the-data-scientists-crib-sheet/)__\n",
    "1. __[Random Number Generators - University Libraries - Ball State University](lib.bsu.edu/beneficencepress/mathexchange/09-01/randomnumbergenerators.pdf)__\n",
    "1. __[R. Davies, Hardware random number generators](http://www.robertnz.net/hwrng.htm)__\n",
    "1. __[A Brief History of Random Numbers](https://medium.freecodecamp.org/a-brief-history-of-random-numbers-9498737f5b6c)__\n",
    "1. __[Biography1 - Laplace](https://www.britannica.com/biography/Pierre-Simon-marquis-de-Laplace)__\n",
    "1. __[Biography2 - Laplace](http://www-groups.dcs.st-and.ac.uk/history/Biographies/Laplace.html)__\n",
    "1. __[Famous Scientists - Laplace](https://www.famousscientists.org/pierre-simon-laplace/)__\n",
    "1. __[Distributions](http://onlinestatbook.com/2/introduction/distributions.html)__\n",
    "1. __[George Zipf](https://scholar.google.com/citations?user=nLm1gnIAAAAJ&hl=en)__\n",
    "\n",
    "[Back](#top)"
   ]
  }
 ],
 "metadata": {
  "kernelspec": {
   "display_name": "Python 3",
   "language": "python",
   "name": "python3"
  },
  "language_info": {
   "codemirror_mode": {
    "name": "ipython",
    "version": 3
   },
   "file_extension": ".py",
   "mimetype": "text/x-python",
   "name": "python",
   "nbconvert_exporter": "python",
   "pygments_lexer": "ipython3",
   "version": "3.6.6"
  }
 },
 "nbformat": 4,
 "nbformat_minor": 2
}
