{
 "cells": [
  {
   "cell_type": "markdown",
   "metadata": {},
   "source": [
    "# The Python numpy.random package"
   ]
  },
  {
   "cell_type": "markdown",
   "metadata": {},
   "source": [
    "The Python numpy.random ...."
   ]
  },
  {
   "cell_type": "markdown",
   "metadata": {},
   "source": [
    "- Explain the overall purpose of the package.\n",
    "- Explain the use of the “Simple random data” and “Permutations” functions.\n",
    "- Explain the use and purpose of at least five “Distributions” functions.\n",
    "- Explain the use of seeds in generating pseudorandom numbers. "
   ]
  },
  {
   "cell_type": "markdown",
   "metadata": {},
   "source": [
    "## The Purpose of the package\n",
    "\n",
    "The purpose of a random number generator is to generate a number or sequence of numbers that cannot be reasonably predicted better than that by random chance. \n",
    "\n",
    "Random number generators have applications in gambling, statistical sampling, computer simulations, cryptography and randomised experimental design.\n",
    "\n",
    "The earliest methods of random number generators were dice, spinners, wheel of fortune, roulette, etc., cards, drawing straws, tea leaves, flipping coins, pulling from a set of items in a bag, hat, etc.\n",
    "\n",
    "The general purpose of the numpy.random package is to generate various types and distributions of datasets that can be used in development and evaluation and used in the exploration of various libraries and analytical methods. It provides the developer with a clear understanding of the dataset prior to analysis, to explore analytical methods and derive the very variables initially used to create a dataset and deduce them again from the dataset using analyses and analytical methods and libraries. \n"
   ]
  },
  {
   "cell_type": "markdown",
   "metadata": {},
   "source": [
    "## Simple Random data and permutations\n",
    "\n",
    "The sample random data functions generate sequences of random numbers without considering any criteria, like distribution. \n",
    "\n",
    "Permutations acts upon a dataset in one of two fashions, it shuffles the dataset by acting upon it directly or by creating a shuffled copy of the set using the permutation function.\n",
    "\n",
    "One practical real world use case would be that of simulating the roll of a six sided dice thousands of times as illustrated below."
   ]
  },
  {
   "cell_type": "code",
   "execution_count": 1,
   "metadata": {},
   "outputs": [],
   "source": [
    "import numpy.random as rnd\n",
    "import matplotlib.pyplot as pl\n",
    "import seaborn as sns\n",
    "%matplotlib inline\n",
    "\n",
    "def diceroll ():\n",
    "    import numpy.random as rnd\n",
    "    dice=['one','two','three','four','five','six']\n",
    "    return rnd.choice(dice)\n"
   ]
  },
  {
   "cell_type": "code",
   "execution_count": 2,
   "metadata": {},
   "outputs": [
    {
     "data": {
      "image/png": "[encoded data removed]",
      "text/plain": [
       "<Figure size 432x288 with 1 Axes>"
      ]
     },
     "metadata": {},
     "output_type": "display_data"
    }
   ],
   "source": [
    "dicerolls=[diceroll() for i in range(100)]\n",
    "sns.countplot(dicerolls)\n",
    "pl.show()"
   ]
  },
  {
   "cell_type": "code",
   "execution_count": 3,
   "metadata": {},
   "outputs": [
    {
     "data": {
      "image/png": "[encoded data removed]",
      "text/plain": [
       "<Figure size 432x288 with 1 Axes>"
      ]
     },
     "metadata": {},
     "output_type": "display_data"
    }
   ],
   "source": [
    "dicerolls=[diceroll() for i in range(1000)]\n",
    "sns.countplot(dicerolls)\n",
    "pl.show()"
   ]
  },
  {
   "cell_type": "code",
   "execution_count": 4,
   "metadata": {},
   "outputs": [
    {
     "data": {
      "image/png": "[encoded data removed]",
      "text/plain": [
       "<Figure size 432x288 with 1 Axes>"
      ]
     },
     "metadata": {},
     "output_type": "display_data"
    }
   ],
   "source": [
    "dicerolls=[diceroll() for i in range(100000)]\n",
    "sns.countplot(dicerolls)\n",
    "pl.show()"
   ]
  },
  {
   "cell_type": "markdown",
   "metadata": {},
   "source": [
    "The numpy.random.choice function is used to randomly select one of the six sides of the dice and then to run this process through thousands of cycles to test the distribution for the randomness of the function.\n",
    "\n",
    "The really interesting observation of a very simple experiment like this immediately shows the impact of the statistical sample and the corresponding differences in the distributions. With really big test samples the statistical differences becomes negligible. "
   ]
  },
  {
   "cell_type": "markdown",
   "metadata": {},
   "source": [
    "## Permutations\n",
    "\n",
    "Permutations can be illustrated on the dice object illustrated in the exercise above."
   ]
  },
  {
   "cell_type": "code",
   "execution_count": 56,
   "metadata": {},
   "outputs": [
    {
     "data": {
      "text/plain": [
       "['one', 'two', 'three', 'four', 'five', 'six']"
      ]
     },
     "execution_count": 56,
     "metadata": {},
     "output_type": "execute_result"
    }
   ],
   "source": [
    "dice=['one','two','three','four','five','six']\n",
    "dice"
   ]
  },
  {
   "cell_type": "markdown",
   "metadata": {},
   "source": [
    "The dice object appears in the fixed sequence it was created in previously."
   ]
  },
  {
   "cell_type": "code",
   "execution_count": 6,
   "metadata": {},
   "outputs": [
    {
     "data": {
      "text/plain": [
       "array(['six', 'four', 'two', 'one', 'three', 'five'], dtype='<U5')"
      ]
     },
     "execution_count": 6,
     "metadata": {},
     "output_type": "execute_result"
    }
   ],
   "source": [
    "rnd.permutation(dice)"
   ]
  },
  {
   "cell_type": "code",
   "execution_count": 7,
   "metadata": {},
   "outputs": [
    {
     "data": {
      "text/plain": [
       "['one', 'two', 'three', 'four', 'five', 'six']"
      ]
     },
     "execution_count": 7,
     "metadata": {},
     "output_type": "execute_result"
    }
   ],
   "source": [
    "dice"
   ]
  },
  {
   "cell_type": "markdown",
   "metadata": {},
   "source": [
    "So the permutation of dice create a new permuted sequence, but the original object dice remains intact.\n",
    "\n",
    "Now we run shuffle on the same object dice."
   ]
  },
  {
   "cell_type": "code",
   "execution_count": 8,
   "metadata": {},
   "outputs": [
    {
     "name": "stdout",
     "output_type": "stream",
     "text": [
      "['six', 'three', 'two', 'four', 'one', 'five']\n"
     ]
    }
   ],
   "source": [
    " rnd.shuffle(dice)\n",
    " print(dice)"
   ]
  },
  {
   "cell_type": "markdown",
   "metadata": {},
   "source": [
    "Now the dice object content was permanently shuffled to be in a new random order."
   ]
  },
  {
   "cell_type": "markdown",
   "metadata": {},
   "source": [
    "## The use of distributions"
   ]
  },
  {
   "cell_type": "markdown",
   "metadata": {},
   "source": [
    "### Laplace Distribution\n",
    "\n",
    "<img style=\"float: left; margin: 0px 15px 0px 0px;\" src=\"https://upload.wikimedia.org/wikipedia/commons/9/91/Pierre-Simon-Laplace_%281749-1827%29.jpg\" alt=\"Piere Laplace\" title=\"Piere Laplace\" />The Laplace distribution was named after Pierre-Simon Laplace who was a prominent French mathematical physicist and astronomer of the 19th century, who made crucial contributions in the arena of planetary motion by applying Sir Isaac Newton’s theory of gravitation to the entire solar system. His work regarding the theory of probability and statistics is considered pioneering and has influenced a whole new generation of mathematicians.\n",
    "\n",
    "The Laplace distribution is similar to the Gaussian/normal distribution, but is sharper at the peak and has fatter tails. It represents the difference between two independent, identically distributed exponential random variables.\n",
    "\n",
    "The normal distribution sometimes also referred to as the Gaussian distribution recognisable by the distinctive bell shape. A distinguishing feature of the Laplace distribution is its tails, which are fatter than the normal distribution’s. \n",
    "\n",
    "The Laplace distribution (given after the name of Pierre-Laplace) is a distribution which again like the t-distribution can be used for robustness to outliers due to fatter tails. It is also called double exponential distribution due to being made up from 2 exponential functions. What is interesting about it is that it is quite similar to the Gaussian. Instead of mean (μ) and standard deviation (σ), Laplace has location (also μ) and diversity (b).\n"
   ]
  },
  {
   "cell_type": "code",
   "execution_count": 4,
   "metadata": {},
   "outputs": [
    {
     "data": {
      "text/plain": [
       "[<matplotlib.lines.Line2D at 0x15ff43a39e8>]"
      ]
     },
     "execution_count": 4,
     "metadata": {},
     "output_type": "execute_result"
    },
    {
     "data": {
      "image/png": "[encoded data removed]",
      "text/plain": [
       "<Figure size 432x288 with 1 Axes>"
      ]
     },
     "metadata": {},
     "output_type": "display_data"
    }
   ],
   "source": [
    "import numpy.random as rnd\n",
    "import matplotlib.pyplot as pl\n",
    "import numpy as np\n",
    "%matplotlib inline\n",
    "\n",
    "loc, scale = 0., 1. # set location and diversity\n",
    "s = rnd.laplace(loc, scale, 1000) # generate a random set \n",
    "count, bins, ignored = pl.hist(s, 30, density=True)\n",
    "\n",
    "x = np.arange(-8., 8., .01) # creat a list of x values\n",
    "pdf = np.exp(-abs(x-loc)/scale)/(2.*scale) #pdf - probability density function\n",
    "pl.plot(x, pdf)\n",
    "#gausian for comparisom in green\n",
    "g = (1/(scale * np.sqrt(2 * np.pi)) *np.exp(-(x - loc)**2 / (2 * scale**2)))\n",
    "pl.plot(x,g)\n",
    "#pl.show()"
   ]
  },
  {
   "cell_type": "markdown",
   "metadata": {},
   "source": [
    "### Binomial Distribution\n",
    "\n",
    "Selecting a binomial for distribution for discussion was supposed to be easy, however the library function outputs required some more code to convert the outputs into data values useful in a plot. Also tweaking the parameters is not that trivial to produce a very binomial looking dataset, it more closely resembles a normal or Gaussian distribution until a sufficiently big dataset was produced to shift everything to the left."
   ]
  },
  {
   "cell_type": "code",
   "execution_count": 20,
   "metadata": {},
   "outputs": [
    {
     "data": {
      "image/png": "[encoded data removed]",
      "text/plain": [
       "<Figure size 432x288 with 1 Axes>"
      ]
     },
     "metadata": {},
     "output_type": "display_data"
    }
   ],
   "source": [
    "import collections                         # for counting the 30k cycle results \n",
    "import matplotlib.pyplot as pl             # \n",
    "import numpy.random as rnd                 # \n",
    "import seaborn as sns                      #\n",
    "import pandas as pd                        # \n",
    "%matplotlib inline                         # \n",
    "\n",
    "a=np.random.binomial(99, 0.073, 30000)     # generate a binomial distribution with a 7.3% probability over 99 tests\n",
    "b=collections.Counter(a)                   # count the number of occurances of the values generated in a over 30k cycles\n",
    "c=b.most_common()                          # sort by most common and create a list for use in graph\n",
    "df=pd.DataFrame(c,columns=['val','count']) # convet the list to a dataframe for ease of use with seaborn with labels etc\n",
    "sns.barplot('val','count',data=df)         # generate the plot\n",
    "pl.show()"
   ]
  },
  {
   "cell_type": "markdown",
   "metadata": {},
   "source": [
    "Having being forced in a way to work through the logic of generating the plot and generating appropriate data to do so, resulted in a deeper understanding of the fundamentals behind the graph and graph data by playing around with the random.binomial parameters.\n",
    "\n",
    "rnd.binomial(n, p, size=None)\n",
    "\n",
    "n trials and \n",
    "p probability\n",
    "size "
   ]
  },
  {
   "cell_type": "markdown",
   "metadata": {},
   "source": [
    "### Expenential Distribution"
   ]
  },
  {
   "cell_type": "code",
   "execution_count": 5,
   "metadata": {},
   "outputs": [
    {
     "data": {
      "text/plain": [
       "<matplotlib.axes._subplots.AxesSubplot at 0x1dc744d0358>"
      ]
     },
     "execution_count": 5,
     "metadata": {},
     "output_type": "execute_result"
    },
    {
     "data": {
      "image/png": "[encoded data removed]",
      "text/plain": [
       "<Figure size 432x288 with 1 Axes>"
      ]
     },
     "metadata": {
      "needs_background": "light"
     },
     "output_type": "display_data"
    }
   ],
   "source": [
    "import numpy as np\n",
    "import matplotlib.pyplot as pl\n",
    "import seaborn as sns\n",
    "%matplotlib inline\n",
    "\n",
    "e=np.random.exponential(1,100000)\n",
    "sns.distplot(e)"
   ]
  },
  {
   "cell_type": "markdown",
   "metadata": {},
   "source": [
    "### Log Distribution"
   ]
  },
  {
   "cell_type": "markdown",
   "metadata": {},
   "source": [
    "Again the expectation was to generate a dataset using the __np.randowm.lognormal__ function and and simply plot the data output.\n",
    "\n",
    "When generating a bunch of numbers and sorting them by size it follows a logarithmic curve one would expect to get but getting a log distribution graph, resembling what is shown in the literature, takes a very different approach even in the python random log distribution documentation discussion."
   ]
  },
  {
   "cell_type": "code",
   "execution_count": 6,
   "metadata": {},
   "outputs": [
    {
     "data": {
      "image/png": "[encoded data removed]",
      "text/plain": [
       "<Figure size 432x288 with 1 Axes>"
      ]
     },
     "metadata": {
      "needs_background": "light"
     },
     "output_type": "display_data"
    }
   ],
   "source": [
    "# Generate a thousand samples: each is the product of 100 random\n",
    "# values, drawn from a normal distribution.\n",
    "\n",
    "import numpy as np\n",
    "import matplotlib.pyplot as pl\n",
    "import seaborn as sns\n",
    "%matplotlib inline\n",
    "\n",
    "b = []\n",
    "for i in range(1000): # generate a set of 1000 really big random numbers 1.0475083199045841e+102\n",
    "    a = 10. + np.random.random(100)\n",
    "    b.append(np.product(a))\n",
    "\n",
    "b = np.array(b) / np.min(b) # scale values to range 0-2 roughly, so bigger than 0 and smaller than 2\n",
    "count, bins, ignored = pl.hist(b, 100, density=True, align='mid') # create a histogram plot and save the conts and bins values\n",
    "sigma = np.std(np.log(b)) # generate the log values of the array b and then calculate the standard deviation of the set\n",
    "mu = np.mean(np.log(b)) # generate the log mean of the set\n",
    "\n",
    "x = np.linspace(min(bins), max(bins), 10000) # generate evenly spaced number for the x-axis of the graph\n",
    "pdf = (np.exp(-(np.log(x) - mu)**2 / (2 * sigma**2)) # calculate the probability density function\n",
    "        / (x * sigma * np.sqrt(2 * np.pi)))\n",
    "\n",
    "pl.plot(x, pdf, color='r', linewidth=2) # plot the pdf in red over the histogram\n",
    "pl.show()"
   ]
  },
  {
   "cell_type": "markdown",
   "metadata": {},
   "source": [
    "### Student-t Distribution\n",
    "\n",
    "The distinguishing feature of the t-distribution are its tails, which are fatter than the normal distribution’s. If the fat-tail anecdote isn’t a hot enough take to wow your neighbor, go to its mildly-interesting back-story concerning beer. \n",
    "\n",
    "Over 100 years ago, Guinness was using statistics to make better stout. There, William Sealy Gosset developed some whole new stats theory just to grow better barley. Gosset convinced the boss that the other brewers couldn’t figure out how to use the ideas, and so got permission to publish, but only under the pen name “Student”. Gosset’s best-known result is this t-distribution, which is sort of named after him. \n",
    " \n",
    "It is like the Gaussian distribution. Easy to remember - think 't'  for fatter tails; a Gaussian with fatter tails. It is a probability  distribution that is used to estimate population parameters when the  sample size is small and/or when the population variance is unknown.  Plus, it keeps outliers in mind too. Thereby, is more robust than the  Gaussian distribution. The t-distribution's properties start to resemble  the Gaussian when the degrees of freedom are high."
   ]
  },
  {
   "cell_type": "markdown",
   "metadata": {},
   "source": [
    "### Ziph Distribution\n",
    "\n",
    "Zipf's law states that given some corpus of natural language utterances, the frequency of any word is inversely proportional to its rank in the frequency table. Thus the most frequent word will occur approximately twice as often as the second most frequent word, three times as often as the third most frequent word, etc.: the rank-frequency distribution is an inverse relation. For example, in the Brown Corpus of American English text, the word the is the most frequently occurring word, and by itself accounts for nearly 7% of all word occurrences (69,971 out of slightly over 1 million). True to Zipf's Law, the second-place word of accounts for slightly over 3.5% of words (36,411 occurrences), followed by and (28,852). Only 135 vocabulary items are needed to account for half the Brown Corpus."
   ]
  },
  {
   "cell_type": "markdown",
   "metadata": {},
   "source": [
    "So instead of generating random data, a more interesting approach was considered by generating a Ziph dataset from the book __[Ulyses by the James Joyce](data/ulyses_by_james_joyce.txt)__ from first principle. "
   ]
  },
  {
   "cell_type": "code",
   "execution_count": 2,
   "metadata": {},
   "outputs": [],
   "source": [
    "import seaborn as sns\n",
    "from collections import Counter as counter\n",
    "import matplotlib.pyplot as pl\n",
    "import pandas as pd\n",
    "%matplotlib inline"
   ]
  },
  {
   "cell_type": "markdown",
   "metadata": {},
   "source": [
    "### Generating a wordlist\n",
    "\n",
    "So the text from the book is read into a word list line by line, parsed into individual words and stripped of all spaces, punctuation and case."
   ]
  },
  {
   "cell_type": "code",
   "execution_count": 3,
   "metadata": {},
   "outputs": [],
   "source": [
    "wordlist=[]\n",
    "with open('data/ulyses_by_james_joyce.txt', 'r', encoding='utf-8') as infile:\n",
    "    for line in infile:\n",
    "        words=line.strip().split()\n",
    "        for word in words:\n",
    "            wordlist.append(word.casefold().strip('[,:.]'))"
   ]
  },
  {
   "cell_type": "markdown",
   "metadata": {},
   "source": [
    "The resulting word list is then counted and a complete list of counted word generated for the entire book."
   ]
  },
  {
   "cell_type": "code",
   "execution_count": 7,
   "metadata": {},
   "outputs": [
    {
     "name": "stdout",
     "output_type": "stream",
     "text": [
      "34,986\n"
     ]
    }
   ],
   "source": [
    "wordcount=counter(wordlist)\n",
    "print('{:,}'.format(len(wordcount)))\n"
   ]
  },
  {
   "cell_type": "markdown",
   "metadata": {},
   "source": [
    "The result is almost 35 thousand unique words that is then sorted by the top most common ones and arranged in a data frame for display and easy graphing purposes."
   ]
  },
  {
   "cell_type": "code",
   "execution_count": 8,
   "metadata": {},
   "outputs": [],
   "source": [
    "most_common=wordcount.most_common(15)"
   ]
  },
  {
   "cell_type": "markdown",
   "metadata": {},
   "source": [
    "The most common word and count of the words are then assembled in a data frame __df__."
   ]
  },
  {
   "cell_type": "code",
   "execution_count": 10,
   "metadata": {},
   "outputs": [
    {
     "data": {
      "text/html": [
       "<div>\n",
       "<style scoped>\n",
       "    .dataframe tbody tr th:only-of-type {\n",
       "        vertical-align: middle;\n",
       "    }\n",
       "\n",
       "    .dataframe tbody tr th {\n",
       "        vertical-align: top;\n",
       "    }\n",
       "\n",
       "    .dataframe thead th {\n",
       "        text-align: right;\n",
       "    }\n",
       "</style>\n",
       "<table border=\"1\" class=\"dataframe\">\n",
       "  <thead>\n",
       "    <tr style=\"text-align: right;\">\n",
       "      <th></th>\n",
       "      <th>words</th>\n",
       "      <th>counts</th>\n",
       "    </tr>\n",
       "  </thead>\n",
       "  <tbody>\n",
       "    <tr>\n",
       "      <th>0</th>\n",
       "      <td>the</td>\n",
       "      <td>14888</td>\n",
       "    </tr>\n",
       "    <tr>\n",
       "      <th>1</th>\n",
       "      <td>of</td>\n",
       "      <td>8244</td>\n",
       "    </tr>\n",
       "    <tr>\n",
       "      <th>2</th>\n",
       "      <td>and</td>\n",
       "      <td>7198</td>\n",
       "    </tr>\n",
       "    <tr>\n",
       "      <th>3</th>\n",
       "      <td>a</td>\n",
       "      <td>6442</td>\n",
       "    </tr>\n",
       "    <tr>\n",
       "      <th>4</th>\n",
       "      <td>to</td>\n",
       "      <td>4983</td>\n",
       "    </tr>\n",
       "    <tr>\n",
       "      <th>5</th>\n",
       "      <td>in</td>\n",
       "      <td>4887</td>\n",
       "    </tr>\n",
       "    <tr>\n",
       "      <th>6</th>\n",
       "      <td>he</td>\n",
       "      <td>3752</td>\n",
       "    </tr>\n",
       "    <tr>\n",
       "      <th>7</th>\n",
       "      <td>his</td>\n",
       "      <td>3292</td>\n",
       "    </tr>\n",
       "    <tr>\n",
       "      <th>8</th>\n",
       "      <td>i</td>\n",
       "      <td>2527</td>\n",
       "    </tr>\n",
       "    <tr>\n",
       "      <th>9</th>\n",
       "      <td>that</td>\n",
       "      <td>2523</td>\n",
       "    </tr>\n",
       "    <tr>\n",
       "      <th>10</th>\n",
       "      <td>with</td>\n",
       "      <td>2506</td>\n",
       "    </tr>\n",
       "    <tr>\n",
       "      <th>11</th>\n",
       "      <td>it</td>\n",
       "      <td>2246</td>\n",
       "    </tr>\n",
       "    <tr>\n",
       "      <th>12</th>\n",
       "      <td>was</td>\n",
       "      <td>2117</td>\n",
       "    </tr>\n",
       "    <tr>\n",
       "      <th>13</th>\n",
       "      <td>on</td>\n",
       "      <td>2105</td>\n",
       "    </tr>\n",
       "    <tr>\n",
       "      <th>14</th>\n",
       "      <td>for</td>\n",
       "      <td>1928</td>\n",
       "    </tr>\n",
       "  </tbody>\n",
       "</table>\n",
       "</div>"
      ],
      "text/plain": [
       "   words  counts\n",
       "0    the   14888\n",
       "1     of    8244\n",
       "2    and    7198\n",
       "3      a    6442\n",
       "4     to    4983\n",
       "5     in    4887\n",
       "6     he    3752\n",
       "7    his    3292\n",
       "8      i    2527\n",
       "9   that    2523\n",
       "10  with    2506\n",
       "11    it    2246\n",
       "12   was    2117\n",
       "13    on    2105\n",
       "14   for    1928"
      ]
     },
     "execution_count": 10,
     "metadata": {},
     "output_type": "execute_result"
    }
   ],
   "source": [
    "words=[];counts=[]\n",
    "\n",
    "for word,count in most_common:\n",
    "    words.append(word); counts.append(count)\n",
    "df=pd.DataFrame({'words': words,'counts': counts});df"
   ]
  },
  {
   "cell_type": "code",
   "execution_count": 21,
   "metadata": {},
   "outputs": [
    {
     "data": {
      "image/png": "[encoded data removed]",
      "text/plain": [
       "<Figure size 1296x504 with 1 Axes>"
      ]
     },
     "metadata": {},
     "output_type": "display_data"
    }
   ],
   "source": [
    "pl_size = (18, 7) # set the graph size\n",
    "fig, ax = pl.subplots(figsize=pl_size)\n",
    "sns.barplot(ax=ax,x=words,y=counts, palette=\"deep\", data=df)\n",
    "pl.show()"
   ]
  },
  {
   "cell_type": "markdown",
   "metadata": {},
   "source": [
    "Although not a perfect Ziphian distribution from the third term onward, it follows the pattern of most such distributions typically derived on smaller datasets."
   ]
  },
  {
   "cell_type": "markdown",
   "metadata": {},
   "source": [
    "\n",
    "## References\n",
    "\n",
    "1. __[Numpy reference manual - numpy.random](https://docs.scipy.org/doc/numpy-1.15.1/reference/routines.random.html)__\n",
    "1. __[Cosmo Learning Video - Lecture 18 - Python Random Numbers](https://cosmolearning.org/video-lectures/python-random-number-generator-random-module/)__\n",
    "1. __[rando.Random vs numpy.Random](https://stackoverflow.com/questions/7029993/differences-between-numpy-random-and-random-random-in-python)__\n",
    "1. __[Quora - The most interesting probability distributions](https://www.quora.com/What-are-some-of-the-most-interesting-probability-distributions)__\n",
    "1. __[HDIP Probabbility Distributions Summary](http://hdip-data-analytics.com/statistics/distributions)__\n",
    "1. __[Common Probability Distributions](http://blog.cloudera.com/blog/2015/12/common-probability-distributions-the-data-scientists-crib-sheet/)__\n",
    "1. __[Random Number Generators - University Libraries - Ball State University](lib.bsu.edu/beneficencepress/mathexchange/09-01/randomnumbergenerators.pdf)__\n",
    "1. __[R. Davies, Hardware random number generators](http://www.robertnz.net/hwrng.htm)__\n",
    "1. __[A Brief History of Random Numbers](https://medium.freecodecamp.org/a-brief-history-of-random-numbers-9498737f5b6c)__\n",
    "1. __[Biography1 - Laplace](https://www.britannica.com/biography/Pierre-Simon-marquis-de-Laplace)__\n",
    "1. __[Biography2 - Laplace](http://www-groups.dcs.st-and.ac.uk/history/Biographies/Laplace.html)__\n",
    "1. __[Famous Scientists - Laplace](https://www.famousscientists.org/pierre-simon-laplace/)__\n",
    "1. __[]()__"
   ]
  }
 ],
 "metadata": {
  "kernelspec": {
   "display_name": "Python 3",
   "language": "python",
   "name": "python3"
  },
  "language_info": {
   "codemirror_mode": {
    "name": "ipython",
    "version": 3
   },
   "file_extension": ".py",
   "mimetype": "text/x-python",
   "name": "python",
   "nbconvert_exporter": "python",
   "pygments_lexer": "ipython3",
   "version": "3.6.6"
  }
 },
 "nbformat": 4,
 "nbformat_minor": 2
}
