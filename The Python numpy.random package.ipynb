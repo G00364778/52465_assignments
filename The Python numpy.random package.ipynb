{
 "cells": [
  {
   "cell_type": "markdown",
   "metadata": {},
   "source": [
    "# The Python numpy.random package"
   ]
  },
  {
   "cell_type": "markdown",
   "metadata": {},
   "source": [
    "The Python numpy.random ...."
   ]
  },
  {
   "cell_type": "markdown",
   "metadata": {},
   "source": [
    "- Explain the overall purpose of the package.\n",
    "- Explain the use of the “Simple random data” and “Permutations” functions.\n",
    "- Explain the use and purpose of at least five “Distributions” functions.\n",
    "- Explain the use of seeds in generating pseudorandom numbers."
   ]
  },
  {
   "cell_type": "markdown",
   "metadata": {},
   "source": [
    "## The Purpose of the package\n",
    "\n",
    "The general purpose of the package is to generate various types and distributions of datasets that can be used in development and evaluation and used in the exploration of various libraries and analytical methods. It provides the developer with a clear understanding of the dataset prior to analysis, to explore analytical methods and derive the very variables initially used to create a dataset and deduce them again from the dataset using analyses and analytical methods and libraries. \n",
    "\n"
   ]
  },
  {
   "cell_type": "markdown",
   "metadata": {},
   "source": [
    "## Simple Random data and permutations\n",
    "\n",
    "The sample random data functions generate sequences of random numbers without considering any criteria, like distribution. \n",
    "\n",
    "\n",
    "Permutiations acts upon a dataset in one of two fashions, it shuffles the dataset by acting upon it directly or by creating a shuffled copy of the set using the permutation function."
   ]
  },
  {
   "cell_type": "markdown",
   "metadata": {},
   "source": [
    "## The use of distributions\n",
    "\n"
   ]
  },
  {
   "cell_type": "markdown",
   "metadata": {},
   "source": [
    "## References\n",
    "\n",
    "1. __[Numpy reference manual - numpy.random](https://docs.scipy.org/doc/numpy-1.15.1/reference/routines.random.html)__\n",
    "1. __[Cosmo Learning Video - Lecture 18 - Python Random Numbers](https://cosmolearning.org/video-lectures/python-random-number-generator-random-module/)__\n",
    "1. __[rando.Random vs numpy.Random](https://stackoverflow.com/questions/7029993/differences-between-numpy-random-and-random-random-in-python)__\n",
    "1. __[Quora - The most interesting probability distributions](https://www.quora.com/What-are-some-of-the-most-interesting-probability-distributions)__\n",
    "1. __[HDIP Probabbility Distributions Summary](http://hdip-data-analytics.com/statistics/distributions)__\n",
    "1. __[Common Probability Distributions](http://blog.cloudera.com/blog/2015/12/common-probability-distributions-the-data-scientists-crib-sheet/)__\n",
    "1. __[]()__\n",
    "1. __[]()__"
   ]
  },
  {
   "cell_type": "code",
   "execution_count": null,
   "metadata": {},
   "outputs": [],
   "source": []
  }
 ],
 "metadata": {
  "kernelspec": {
   "display_name": "Python 3",
   "language": "python",
   "name": "python3"
  },
  "language_info": {
   "codemirror_mode": {
    "name": "ipython",
    "version": 3
   },
   "file_extension": ".py",
   "mimetype": "text/x-python",
   "name": "python",
   "nbconvert_exporter": "python",
   "pygments_lexer": "ipython3",
   "version": "3.6.5"
  }
 },
 "nbformat": 4,
 "nbformat_minor": 2
}
