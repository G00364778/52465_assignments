{
 "cells": [
  {
   "cell_type": "markdown",
   "metadata": {},
   "source": [
    "# The Python numpy.random package"
   ]
  },
  {
   "cell_type": "markdown",
   "metadata": {},
   "source": [
    "The Python numpy.random ...."
   ]
  },
  {
   "cell_type": "markdown",
   "metadata": {},
   "source": [
    "- Explain the overall purpose of the package.\n",
    "- Explain the use of the “Simple random data” and “Permutations” functions.\n",
    "- Explain the use and purpose of at least five “Distributions” functions.\n",
    "- Explain the use of seeds in generating pseudorandom numbers. "
   ]
  },
  {
   "cell_type": "markdown",
   "metadata": {},
   "source": [
    "## The Purpose of the package\n",
    "\n",
    "The purpose of a random number generator is to generate a number or sequence of numbers that cannot be reasonably predicted better than that by random chance. \n",
    "\n",
    "Random number generators have applications in gambling, statistical sampling, computer simulations, cryptography and randomised experimental design.\n",
    "\n",
    "The earliest methods of random number generators were dice, spinners, wheel of fortune, roulette, etc., cards, drawing straws, tea leaves, flipping coins, pulling from a set of items in a bag, hat, etc.\n",
    "\n",
    "The general purpose of the numpy.random package is to generate various types and distributions of datasets that can be used in development and evaluation and used in the exploration of various libraries and analytical methods. It provides the developer with a clear understanding of the dataset prior to analysis, to explore analytical methods and derive the very variables initially used to create a dataset and deduce them again from the dataset using analyses and analytical methods and libraries. \n"
   ]
  },
  {
   "cell_type": "markdown",
   "metadata": {},
   "source": [
    "## Simple Random data and permutations\n",
    "\n",
    "The sample random data functions generate sequences of random numbers without considering any criteria, like distribution. \n",
    "\n",
    "Permutations acts upon a dataset in one of two fashions, it shuffles the dataset by acting upon it directly or by creating a shuffled copy of the set using the permutation function.\n",
    "\n",
    "One practical real world use case would be that of simulating the roll of a six sided dice thousands of times as illustrated below."
   ]
  },
  {
   "cell_type": "code",
   "execution_count": 1,
   "metadata": {},
   "outputs": [],
   "source": [
    "import numpy.random as rnd\n",
    "import matplotlib.pyplot as pl\n",
    "import seaborn as sns\n",
    "%matplotlib inline\n",
    "\n",
    "def diceroll ():\n",
    "    import numpy.random as rnd\n",
    "    dice=['one','two','three','four','five','six']\n",
    "    return rnd.choice(dice)\n"
   ]
  },
  {
   "cell_type": "code",
   "execution_count": 2,
   "metadata": {},
   "outputs": [
    {
     "data": {
      "image/png": "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\n",
      "text/plain": [
       "<Figure size 432x288 with 1 Axes>"
      ]
     },
     "metadata": {},
     "output_type": "display_data"
    }
   ],
   "source": [
    "dicerolls=[diceroll() for i in range(100)]\n",
    "sns.countplot(dicerolls)\n",
    "pl.show()"
   ]
  },
  {
   "cell_type": "code",
   "execution_count": 3,
   "metadata": {},
   "outputs": [
    {
     "data": {
      "image/png": "iVBORw0KGgoAAAANSUhEUgAAAYgAAAD8CAYAAABthzNFAAAABHNCSVQICAgIfAhkiAAAAAlwSFlzAAALEgAACxIB0t1+/AAAADl0RVh0U29mdHdhcmUAbWF0cGxvdGxpYiB2ZXJzaW9uIDIuMi4yLCBodHRwOi8vbWF0cGxvdGxpYi5vcmcvhp/UCwAAEo1JREFUeJzt3XuQZGV9xvHvA8Q7UXBHg+I6SBFTaHSVCbngBS+JaKmoUYQSg4pZTURDokm8pJQyWtEAsYxEzaKIJIgoiKIhCRRGQSPqrq64XFTQVVc2sIIREo3WLr/80We0Gd9lemfpPjM730/VqT7nPedM/9492/30ufTpVBWSJM21W98FSJIWJwNCktRkQEiSmgwISVKTASFJajIgJElNBoQkqcmAkCQ1GRCSpKY9+i5gZ6xYsaKmp6f7LkOSlpR169Z9v6qm5ltuSQfE9PQ0a9eu7bsMSVpSknx7lOU8xCRJajIgJElNBoQkqcmAkCQ1GRCSpCYDQpLUZEBIkpoMCElSkwEhSWpa0t+kXq6+88Zf77uEHbLy9V/tuwRJC+AehCSpyYCQJDUZEJKkJgNCktRkQEiSmgwISVKTl7lKE/Tpxzy27xJ22GMv+XTfJagn7kFIkpoMCElSkwEhSWoaW0AkOS3JDUk2DLWdnWR9N2xMsr5rn07y46F57x5XXZKk0YzzJPXpwCnAGbMNVfXc2fEkJwM/HFr+2qpaNcZ6JEk7YGwBUVWXJJluzUsS4Ajg8eN6fknSzunrMtdHA9dX1TeG2vZL8mXgZuCvqurSfkqTpLY3H/3svkvYYa/753MWvG5fAXEUcNbQ9GZgZVXdmOQg4KNJHlJVN89dMclqYDXAypUrJ1KsJC1HE7+KKckewLOAs2fbquonVXVjN74OuBb41db6VbWmqmaqamZqamoSJUvSstTHZa5PBK6uqk2zDUmmkuzejT8IOAD4Zg+1SZI647zM9Szgc8CDk2xKcmw360hue3gJ4DHA5Um+ApwDvLSqbhpXbZKk+Y3zKqajttP+gkbbucC546pFkrTj/Ca1JKnJgJAkNRkQkqQmA0KS1GRASJKadslflDvoz8+Yf6FFZt2Jf9B3CZJ0G+5BSJKaDAhJUpMBIUlqMiAkSU0GhCSpyYCQJDUZEJKkJgNCktRkQEiSmgwISVKTASFJajIgJElNBoQkqWlsAZHktCQ3JNkw1HZCku8lWd8NTxma95ok1yT5WpInjasuSdJoxrkHcTpwWKP9bVW1qhsuAEhyIHAk8JBunXcm2X2MtUmS5jG2gKiqS4CbRlz8cOCDVfWTqvoWcA1w8LhqkyTNr49zEMclubw7BLVX13Z/4LtDy2zq2n5BktVJ1iZZu2XLlnHXKknL1qQD4l3A/sAqYDNwcteexrLV+gNVtaaqZqpqZmpqajxVSpImGxBVdX1VbauqW4FT+flhpE3AA4YW3Re4bpK1SZJua6IBkWSfoclnArNXOJ0PHJnkzkn2Aw4AvjDJ2iRJt7XHuP5wkrOAQ4EVSTYBbwAOTbKKweGjjcBLAKrqiiQfAq4EtgIvq6pt46pNkjS/sQVEVR3VaH7v7Sz/ZuDN46pHkrRj/Ca1JKlpbHsQkpafU1758b5L2GHHnfy0vktYtAwILTqHvOOQvkvYIZ99+Wf7LkEaCw8xSZKaDAhJUpMBIUlqMiAkSU0GhCSpyYCQJDUZEJKkJgNCktRkQEiSmgwISVKTASFJajIgJElNBoQkqcmAkCQ1GRCSpKaxBUSS05LckGTDUNuJSa5OcnmS85Lcq2ufTvLjJOu74d3jqkuSNJpx7kGcDhw2p+0i4KFV9TDg68BrhuZdW1WruuGlY6xLkjSCsQVEVV0C3DSn7cKq2tpNXgbsO67nlyTtnD7PQbwI+Neh6f2SfDnJp5M8uq+iJEkDvfwmdZLXAVuBM7umzcDKqroxyUHAR5M8pKpubqy7GlgNsHLlykmVLEnLzsT3IJIcAzwVeF5VFUBV/aSqbuzG1wHXAr/aWr+q1lTVTFXNTE1NTapsSVp2JhoQSQ4D/hJ4elX9aKh9Ksnu3fiDgAOAb06yNknSbY3tEFOSs4BDgRVJNgFvYHDV0p2Bi5IAXNZdsfQY4I1JtgLbgJdW1U3NPyxJmoixBURVHdVofu92lj0XOHdctUiSdpzfpJYkNRkQkqQmA0KS1GRASJKaDAhJUpMBIUlqMiAkSU0GhCSpyYCQJDUZEJKkJgNCktQ0UkAkuXiUNknSruN2b9aX5C7A3RjckXUvIN2sXwbuN+baJEk9mu9uri8BjmcQBuv4eUDcDPzDGOuSJPXsdgOiqt4OvD3Jy6vqHROqSZK0CIz0exBV9Y4kvwNMD69TVWeMqS5JUs9GCogk/wTsD6xn8ItvAAUYEJK0ixr1F+VmgAOrqsZZjCRp8Rj1exAbgF8ZZyGSpMVl1IBYAVyZ5N+TnD87zLdSktOS3JBkw1Db3kkuSvKN7nGvrj1J/j7JNUkuT/LIhXVJknRHGPUQ0wkL/PunA6dw23MVrwYurqq3JHl1N/2XwJOBA7rhN4F3dY+SpB6MehXTpxfyx6vqkiTTc5oPBw7txt8PfIpBQBwOnNGd57gsyb2S7FNVmxfy3JKknTPqrTZuSXJzN/xfkm1Jbl7gc9539k2/e7xP135/4LtDy23q2ubWsjrJ2iRrt2zZssASJEnzGXUPYs/h6STPAA6+g2tJo+0XrpqqqjXAGoCZmRmvqpKkMVnQ3Vyr6qPA4xf4nNcn2Qege7yha98EPGBouX2B6xb4HJKknTTqF+WeNTS5G4PvRSz00/v5wDHAW7rHjw21H5fkgwxOTv/Q8w+S1J9Rr2J62tD4VmAjg5PKtyvJWQxOSK9Isgl4A4Ng+FCSY4HvAM/pFr8AeApwDfAj4IUj1iZJGoNRz0Es6M26qo7azqwnNJYt4GULeR5J0h1v1KuY9k1yXvelt+uTnJtk33EXJ0nqz6gnqd/H4BzB/Rhcevrxrk2StIsaNSCmqup9VbW1G04HpsZYlySpZ6MGxPeTHJ1k9244GrhxnIVJkvo1akC8CDgC+C9gM/BsvMpIknZpo17m+tfAMVX1AxjckRU4iUFwSJJ2QaPuQTxsNhwAquom4BHjKUmStBiMGhC7zf5uA/xsD2LUvQ9J0hI06pv8ycB/JjmHwS02jgDePLaqJEm9G/Wb1GckWcvgBn0BnlVVV461MklSr0Y+TNQFgqEgScvEgm73LUna9RkQkqQmA0KS1GRASJKaDAhJUpMBIUlqMiAkSU0Tv11GkgcDZw81PQh4PXAv4A+BLV37a6vqggmXJ0nqTDwgquprwCqAJLsD3wPOY3D78LdV1UmTrkmS9Iv6PsT0BODaqvp2z3VIkuboOyCOBM4amj4uyeVJThu+e6wkafJ6C4gkdwKeDny4a3oXsD+Dw0+bGdxBtrXe6iRrk6zdsmVLaxFJ0h2gzz2IJwNfqqrrAarq+qraVlW3AqcCB7dWqqo1VTVTVTNTU1MTLFeSlpc+A+Iohg4vJdlnaN4zgQ0Tr0iS9DO9/CpckrsBvwu8ZKj5b5OsYvCDRBvnzJMkTVgvAVFVPwLuPaft+X3UIklq6/sqJknSImVASJKaDAhJUpMBIUlqMiAkSU0GhCSpyYCQJDUZEJKkJgNCktRkQEiSmgwISVKTASFJajIgJElNBoQkqcmAkCQ1GRCSpCYDQpLUZEBIkpp6+clRgCQbgVuAbcDWqppJsjdwNjDN4Hepj6iqH/RVoyQtZ33vQTyuqlZV1Uw3/Wrg4qo6ALi4m5Yk9aDvgJjrcOD93fj7gWf0WIskLWt9BkQBFyZZl2R113bfqtoM0D3ep7fqJGmZ6+0cBHBIVV2X5D7ARUmuHmWlLkxWA6xcuXKc9UnSstbbHkRVXdc93gCcBxwMXJ9kH4Du8YbGemuqaqaqZqampiZZsiQtK70ERJK7J9lzdhz4PWADcD5wTLfYMcDH+qhPktTfIab7Auclma3hA1X1b0m+CHwoybHAd4Dn9FSfJC17vQREVX0TeHij/UbgCZOvSJI012K7zFWStEgYEJKkJgNCktRkQEiSmgwISVKTASFJajIgJElNBoQkqcmAkCQ1GRCSpCYDQpLUZEBIkpoMCElSkwEhSWoyICRJTQaEJKnJgJAkNRkQkqQmA0KS1DTxgEjygCT/keSqJFck+ZOu/YQk30uyvhueMunaJEk/t0cPz7kVeGVVfSnJnsC6JBd1895WVSf1UJMkaY6JB0RVbQY2d+O3JLkKuP+k65Ak3b5ez0EkmQYeAXy+azouyeVJTkuy13bWWZ1kbZK1W7ZsmVClkrT89BYQSe4BnAscX1U3A+8C9gdWMdjDOLm1XlWtqaqZqpqZmpqaWL2StNz0EhBJfolBOJxZVR8BqKrrq2pbVd0KnAoc3EdtkqSBPq5iCvBe4Kqq+ruh9n2GFnsmsGHStUmSfq6Pq5gOAZ4PfDXJ+q7ttcBRSVYBBWwEXtJDbZKkTh9XMX0GSGPWBZOuRZK0fX6TWpLUZEBIkpoMCElSkwEhSWoyICRJTQaEJKnJgJAkNRkQkqQmA0KS1GRASJKaDAhJUpMBIUlqMiAkSU0GhCSpyYCQJDUZEJKkJgNCktRkQEiSmhZdQCQ5LMnXklyT5NV91yNJy9WiCogkuwP/ADwZOBA4KsmB/VYlScvTogoI4GDgmqr6ZlX9FPggcHjPNUnSsrTYAuL+wHeHpjd1bZKkCUtV9V3DzyR5DvCkqnpxN/184OCqevnQMquB1d3kg4GvTbDEFcD3J/h8k2b/lrZduX+7ct9g8v17YFVNzbfQHpOoZAdsAh4wNL0vcN3wAlW1BlgzyaJmJVlbVTN9PPck2L+lbVfu367cN1i8/Vtsh5i+CByQZL8kdwKOBM7vuSZJWpYW1R5EVW1Nchzw78DuwGlVdUXPZUnSsrSoAgKgqi4ALui7ju3o5dDWBNm/pW1X7t+u3DdYpP1bVCepJUmLx2I7ByFJWiQMiBElec9S/lZ3knsl+eO+6xinJK9IclWSH3iblqVlaNud2XctO2v4tZbk0CSf6LumhfIQ0zKRZBr4RFU9tOdSxibJ1cCTq+pbfdeiHXNHbLskYfCedusdV9mC6pime60lORR4VVU9dZ51dq+qbRMob4e4B9GQ5O5J/iXJV5JsSPLcJJ9KMpPkgUm+kWRFkt2SXJrk9/queQRvAfZPsj7J+5I8HSDJeUlO68aPTfKmbvzPur5vSHJ8j3WPJMm7gQcB5yf50ySnJLlnko1JduuWuVuS7yb5pST7J/m3JOu6bfhr/fZgfnO3SZLp7lP3qUmuSHJhkrt2yy6Z/s3Zdq9M8tEklye5LMnDumVOSPKqoXU2dP2f/Td4J/Albvs9qr787LUGnAjcI8k5Sa5OcmYXZHT/N1+f5DPAc7a3zZJMJTk3yRe74ZCJ9aSqHOYMwO8Dpw5N3xP4FDDTTb8YOAf4c+Af+653xD5NAxu68SOBE7vxLwCXdePvA54EHAR8Fbg7cA/gCuARffdhhD5uZPCN1BcAp3RtHwMe140/F3hPN34xcEA3/pvAJ/uuf56+NbcJsBVY1S3zIeDoJdq/2W33DuANXdvjgfXd+AkMPonPLr+h+z89DdwK/FbffRiqbfi1dijwQwZf+t0N+BzwqKE+/8XQes1tBnxgaJ2VwFWT6suiu8x1kfgqcFKStzLYVby0C30Aquo93W1BXgqs6qnGnXEpcHx3TuVKYK8k+wC/DbwCeBFwXlX9L0CSjwCPBr7cU70742wGwfAfDILxnUnuAfwO8OGh7Xrnfsob2aNob5NvVdX6bpl1wPQS7d+sRzH4gEZVfTLJvZPcc551vl1Vl42/tAX7QlVtAuj2KqaBz3Tzzu7ab2+bPRE4cKj9l5PsWVW3jLtwA6Khqr6e5CDgKcDfJLlweH6SuzH4RACDT3Nj31B3pKr6XpK9gMOAS4C9gSOA/6mqWzKchkvf+Qy24d4MPoV/ksGn8P+uqqUU7tvbJj8ZGt8G3JXBJ9Wl1r9ZrX4Wgz2l4UPidxka/9+xVrTz5m6j4ffd2dpvb5vtBvx2Vf14TPVtl+cgGpLcD/hRVf0zcBLwyDmLvBU4E3g9cOqEy1uoW4A9h6Y/BxzPICAuBV7VPdK1PaM7Zn934JlD85aUqvofBofR3s5gb3BbVd0MfKvbCyQDD++zzhGMvE2WaP9mXQI8DwZXAAHf7/qzke51mOSRwH491TeKua+1ec2zzS4EjptdNsnEgt+AaPt14Avd7uDrgDfNzkjyWOA3gLdW1ZnAT5O8sJ8yR1dVNwKf7U7uncjgzWWPqrqGwcm9vbs2qupLwOkM3lg/z+C4/VI8vDTrbODo7nHW84Bjk3yFwfH8Rf27I61tAvzgdlZZUv0bcgIwk+RyBid7j+nazwX27l6TfwR8vZ/y5jf8WmNwknpU29tmr6D7N0lyJYND2xPhZa6SpCb3ICRJTQaEJKnJgJAkNRkQkqQmA0KS1GRASJKaDAhJUpMBIUlq+n8/8Xk4iEdqsAAAAABJRU5ErkJggg==\n",
      "text/plain": [
       "<Figure size 432x288 with 1 Axes>"
      ]
     },
     "metadata": {},
     "output_type": "display_data"
    }
   ],
   "source": [
    "dicerolls=[diceroll() for i in range(1000)]\n",
    "sns.countplot(dicerolls)\n",
    "pl.show()"
   ]
  },
  {
   "cell_type": "code",
   "execution_count": 4,
   "metadata": {},
   "outputs": [
    {
     "data": {
      "image/png": "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\n",
      "text/plain": [
       "<Figure size 432x288 with 1 Axes>"
      ]
     },
     "metadata": {},
     "output_type": "display_data"
    }
   ],
   "source": [
    "dicerolls=[diceroll() for i in range(100000)]\n",
    "sns.countplot(dicerolls)\n",
    "pl.show()"
   ]
  },
  {
   "cell_type": "markdown",
   "metadata": {},
   "source": [
    "The numpy.random.choice function is used to randomly select one of the six sides of the dice and then to run this process through thousands of cycles to test the distribution for the randomness of the function.\n",
    "\n",
    "The really interesting observation of a very simple experiment like this immediately shows the impact of the statistical sample and the corresponding differences in the distributions. With really big test samples the statistical differences becomes negligible. "
   ]
  },
  {
   "cell_type": "markdown",
   "metadata": {},
   "source": [
    "## Permutations\n",
    "\n",
    "Permutations can be illustrated on the dice object illustrated in the exercise above."
   ]
  },
  {
   "cell_type": "code",
   "execution_count": 56,
   "metadata": {},
   "outputs": [
    {
     "data": {
      "text/plain": [
       "['one', 'two', 'three', 'four', 'five', 'six']"
      ]
     },
     "execution_count": 56,
     "metadata": {},
     "output_type": "execute_result"
    }
   ],
   "source": [
    "dice=['one','two','three','four','five','six']\n",
    "dice"
   ]
  },
  {
   "cell_type": "markdown",
   "metadata": {},
   "source": [
    "The dice object appears in the fixed sequence it was created in previously."
   ]
  },
  {
   "cell_type": "code",
   "execution_count": 6,
   "metadata": {},
   "outputs": [
    {
     "data": {
      "text/plain": [
       "array(['six', 'four', 'two', 'one', 'three', 'five'], dtype='<U5')"
      ]
     },
     "execution_count": 6,
     "metadata": {},
     "output_type": "execute_result"
    }
   ],
   "source": [
    "rnd.permutation(dice)"
   ]
  },
  {
   "cell_type": "code",
   "execution_count": 7,
   "metadata": {},
   "outputs": [
    {
     "data": {
      "text/plain": [
       "['one', 'two', 'three', 'four', 'five', 'six']"
      ]
     },
     "execution_count": 7,
     "metadata": {},
     "output_type": "execute_result"
    }
   ],
   "source": [
    "dice"
   ]
  },
  {
   "cell_type": "markdown",
   "metadata": {},
   "source": [
    "So the permutation of dice create a new permuted sequence, but the original object dice remains intact.\n",
    "\n",
    "Now we run shuffle on the same object dice."
   ]
  },
  {
   "cell_type": "code",
   "execution_count": 8,
   "metadata": {},
   "outputs": [
    {
     "name": "stdout",
     "output_type": "stream",
     "text": [
      "['six', 'three', 'two', 'four', 'one', 'five']\n"
     ]
    }
   ],
   "source": [
    " rnd.shuffle(dice)\n",
    " print(dice)"
   ]
  },
  {
   "cell_type": "markdown",
   "metadata": {},
   "source": [
    "Now the dice object content was permanently shuffled to be in a new random order."
   ]
  },
  {
   "cell_type": "markdown",
   "metadata": {},
   "source": [
    "## The use of distributions"
   ]
  },
  {
   "cell_type": "markdown",
   "metadata": {},
   "source": [
    "### Laplace Distribution\n",
    "\n",
    "<img style=\"float: left; margin: 0px 15px 0px 0px;\" src=\"https://upload.wikimedia.org/wikipedia/commons/9/91/Pierre-Simon-Laplace_%281749-1827%29.jpg\" alt=\"Piere Laplace\" title=\"Piere Laplace\" />The Laplace distribution was named after Pierre-Simon Laplace who was a prominent French mathematical physicist and astronomer of the 19th century, who made crucial contributions in the arena of planetary motion by applying Sir Isaac Newton’s theory of gravitation to the entire solar system. His work regarding the theory of probability and statistics is considered pioneering and has influenced a whole new generation of mathematicians.\n",
    "\n",
    "The Laplace distribution is similar to the Gaussian/normal distribution, but is sharper at the peak and has fatter tails. It represents the difference between two independent, identically distributed exponential random variables.\n",
    "\n",
    "The normal distribution sometimes also referred to as the Gaussian distribution recognisable by the distinctive bell shape. A distinguishing feature of the Laplace distribution is its tails, which are fatter than the normal distribution’s. \n",
    "\n",
    "The Laplace distribution (given after the name of Pierre-Laplace) is a distribution which again like the t-distribution can be used for robustness to outliers due to fatter tails. It is also called double exponential distribution due to being made up from 2 exponential functions. What is interesting about it is that it is quite similar to the Gaussian. Instead of mean (μ) and standard deviation (σ), Laplace has location (also μ) and diversity (b).\n"
   ]
  },
  {
   "cell_type": "code",
   "execution_count": 14,
   "metadata": {},
   "outputs": [
    {
     "data": {
      "text/plain": [
       "[<matplotlib.lines.Line2D at 0x27477ef3588>]"
      ]
     },
     "execution_count": 14,
     "metadata": {},
     "output_type": "execute_result"
    },
    {
     "data": {
      "image/png": "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\n",
      "text/plain": [
       "<Figure size 432x288 with 1 Axes>"
      ]
     },
     "metadata": {},
     "output_type": "display_data"
    }
   ],
   "source": [
    "import numpy.random as rnd\n",
    "import matplotlib.pyplot as pl\n",
    "import numpy as np\n",
    "%matplotlib inline\n",
    "\n",
    "loc, scale = 0., 1. # set location and diversity\n",
    "s = rnd.laplace(loc, scale, 1000) # generate a random set \n",
    "count, bins, ignored = pl.hist(s, 30, density=True)\n",
    "\n",
    "x = np.arange(-8., 8., .01) # creat a list of x values\n",
    "pdf = np.exp(-abs(x-loc)/scale)/(2.*scale) #pdf - probability density function\n",
    "pl.plot(x, pdf)\n",
    "#gausian for comparisom in green\n",
    "g = (1/(scale * np.sqrt(2 * np.pi)) *np.exp(-(x - loc)**2 / (2 * scale**2)))\n",
    "pl.plot(x,g)\n",
    "#pl.show()"
   ]
  },
  {
   "cell_type": "markdown",
   "metadata": {},
   "source": [
    "### Binomial Distribution\n",
    "\n",
    "Selecting a binomial for distribution for discussion was supposed to be easy, however the library function outputs required some more code to convert the outputs into data values useful in a plot. Also tweaking the parameters is not that trivial to produce a very binomial looking dataset, it more closely resembles a normal or Gaussian distribution until a sufficiently big dataset was produced to shift everything to the left."
   ]
  },
  {
   "cell_type": "code",
   "execution_count": 4,
   "metadata": {},
   "outputs": [
    {
     "name": "stderr",
     "output_type": "stream",
     "text": [
      "UsageError: unrecognized arguments: #\n"
     ]
    }
   ],
   "source": [
    "import collections                         # for counting the 30k cycle results \n",
    "import matplotlib.pyplot as pl             # \n",
    "import numpy.random as rnd                 # \n",
    "import seaborn as sns                      #\n",
    "import pandas as pd                        # \n",
    "%matplotlib inline                         # \n",
    "\n",
    "a=np.random.binomial(99, 0.073, 30000)     # generate a binomial distribution with a 7.3% probability over 99 tests\n",
    "b=collections.Counter(a)                   # count the number of occurances of the values generated in a over 30k cycles\n",
    "c=b.most_common()                          # sort by most common and create a list for use in graph\n",
    "df=pd.DataFrame(c,columns=['val','count']) # convet the list to a dataframe for ease of use with seaborn with labels etc\n",
    "sns.barplot('val','count',data=df)         # generate the plot\n",
    "pl.show()"
   ]
  },
  {
   "cell_type": "markdown",
   "metadata": {},
   "source": [
    "Having being forced in a way to work through the logic of generating the plot and generating appropriate data to do so, resulted in a deeper understanding of the fundamentals behind the graph and graph data by playing around with the random.binomial parameters.\n",
    "\n",
    "rnd.binomial(n, p, size=None)\n",
    "\n",
    "n trials and \n",
    "p probability\n",
    "size "
   ]
  },
  {
   "cell_type": "markdown",
   "metadata": {},
   "source": [
    "### Expenential Distribution"
   ]
  },
  {
   "cell_type": "code",
   "execution_count": 5,
   "metadata": {},
   "outputs": [
    {
     "data": {
      "text/plain": [
       "<matplotlib.axes._subplots.AxesSubplot at 0x1dc744d0358>"
      ]
     },
     "execution_count": 5,
     "metadata": {},
     "output_type": "execute_result"
    },
    {
     "data": {
      "image/png": "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\n",
      "text/plain": [
       "<Figure size 432x288 with 1 Axes>"
      ]
     },
     "metadata": {
      "needs_background": "light"
     },
     "output_type": "display_data"
    }
   ],
   "source": [
    "import numpy as np\n",
    "import matplotlib.pyplot as pl\n",
    "import seaborn as sns\n",
    "%matplotlib inline\n",
    "\n",
    "e=np.random.exponential(1,100000)\n",
    "sns.distplot(e)"
   ]
  },
  {
   "cell_type": "markdown",
   "metadata": {},
   "source": [
    "### Log Distribution"
   ]
  },
  {
   "cell_type": "markdown",
   "metadata": {},
   "source": [
    "Again the expectation was to generate a dataset using the __np.randowm.lognormal__ function and and simply plot the data output.\n",
    "\n",
    "When generating a bunch of numbers and sorting them by size it follows a logarithmic curve one would expect to get but getting a log distribution graph, resembling what is shown in the literature, takes a very different approach even in the python random log distribution documentation discussion."
   ]
  },
  {
   "cell_type": "code",
   "execution_count": 6,
   "metadata": {},
   "outputs": [
    {
     "data": {
      "image/png": "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\n",
      "text/plain": [
       "<Figure size 432x288 with 1 Axes>"
      ]
     },
     "metadata": {
      "needs_background": "light"
     },
     "output_type": "display_data"
    }
   ],
   "source": [
    "# Generate a thousand samples: each is the product of 100 random\n",
    "# values, drawn from a normal distribution.\n",
    "\n",
    "import numpy as np\n",
    "import matplotlib.pyplot as pl\n",
    "import seaborn as sns\n",
    "%matplotlib inline\n",
    "\n",
    "b = []\n",
    "for i in range(1000): # generate a set of 1000 really big random numbers 1.0475083199045841e+102\n",
    "    a = 10. + np.random.random(100)\n",
    "    b.append(np.product(a))\n",
    "\n",
    "b = np.array(b) / np.min(b) # scale values to range 0-2 roughly, so bigger than 0 and smaller than 2\n",
    "count, bins, ignored = pl.hist(b, 100, density=True, align='mid') # create a histogram plot and save the conts and bins values\n",
    "sigma = np.std(np.log(b)) # generate the log values of the array b and then calculate the standard deviation of the set\n",
    "mu = np.mean(np.log(b)) # generate the log mean of the set\n",
    "\n",
    "x = np.linspace(min(bins), max(bins), 10000) # generate evenly spaced number for the x-axis of the graph\n",
    "pdf = (np.exp(-(np.log(x) - mu)**2 / (2 * sigma**2)) # calculate the probability density function\n",
    "        / (x * sigma * np.sqrt(2 * np.pi)))\n",
    "\n",
    "pl.plot(x, pdf, color='r', linewidth=2) # plot the pdf in red over the histogram\n",
    "pl.show()"
   ]
  },
  {
   "cell_type": "markdown",
   "metadata": {},
   "source": [
    "### Student-t Distribution\n",
    "\n",
    "The distinguishing feature of the t-distribution are its tails, which are fatter than the normal distribution’s. If the fat-tail reference does'nt get your attention then maybe the mildly-interesting back-story concerning beer might get your attention. \n",
    "\n",
    "Over 100 years ago, Guinness was using statistics to make better stout. There, William Sealy Gosset developed some whole new stats theory just to grow better barley. Gosset convinced the boss that the other brewers couldn’t figure out how to use the ideas, and so got permission to publish, but only under the pen name “Student”. Gosset’s best-known result is this t-distribution, which is sort of named after him. \n",
    " \n",
    "It is like the Gaussian distribution. Easy to remember - think 't'  for fatter tails; a Gaussian with fatter tails. It is a probability  distribution that is used to estimate population parameters when the  sample size is small and/or when the population variance is unknown.  Plus, it keeps outliers in mind too. Thereby, is more robust than the Gaussian distribution. The t-distribution's properties start to resemble the Gaussian when the degrees of freedom are high."
   ]
  },
  {
   "cell_type": "code",
   "execution_count": 12,
   "metadata": {},
   "outputs": [
    {
     "name": "stderr",
     "output_type": "stream",
     "text": [
      "C:\\ProgramData\\Anaconda3\\lib\\site-packages\\matplotlib\\axes\\_axes.py:6462: UserWarning: The 'normed' kwarg is deprecated, and has been replaced by the 'density' kwarg.\n",
      "  warnings.warn(\"The 'normed' kwarg is deprecated, and has been \"\n"
     ]
    },
    {
     "data": {
      "text/plain": [
       "<matplotlib.axes._subplots.AxesSubplot at 0x27477c3c908>"
      ]
     },
     "execution_count": 12,
     "metadata": {},
     "output_type": "execute_result"
    },
    {
     "data": {
      "image/png": "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\n",
      "text/plain": [
       "<Figure size 432x288 with 1 Axes>"
      ]
     },
     "metadata": {},
     "output_type": "display_data"
    }
   ],
   "source": [
    "import matplotlib.pyplot as pl\n",
    "import numpy.random as rnd\n",
    "import seaborn as sns\n",
    "%matplotlib inline\n",
    "\n",
    "t=rnd.standard_t(10,1000)\n",
    "sns.distplot(t)"
   ]
  },
  {
   "cell_type": "markdown",
   "metadata": {},
   "source": [
    "### Log Distribtion\n"
   ]
  },
  {
   "cell_type": "code",
   "execution_count": 3,
   "metadata": {},
   "outputs": [
    {
     "name": "stderr",
     "output_type": "stream",
     "text": [
      "C:\\ProgramData\\Anaconda3\\lib\\site-packages\\matplotlib\\axes\\_axes.py:6462: UserWarning: The 'normed' kwarg is deprecated, and has been replaced by the 'density' kwarg.\n",
      "  warnings.warn(\"The 'normed' kwarg is deprecated, and has been \"\n"
     ]
    },
    {
     "data": {
      "text/plain": [
       "<matplotlib.axes._subplots.AxesSubplot at 0x1542b83e048>"
      ]
     },
     "execution_count": 3,
     "metadata": {},
     "output_type": "execute_result"
    },
    {
     "data": {
      "image/png": "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\n",
      "text/plain": [
       "<Figure size 432x288 with 1 Axes>"
      ]
     },
     "metadata": {},
     "output_type": "display_data"
    }
   ],
   "source": [
    "l=rnd.lognormal(mean=0.0, sigma=1.0, size=1000); sns.distplot(l)"
   ]
  },
  {
   "cell_type": "markdown",
   "metadata": {},
   "source": [
    "### Ziph Distribution\n",
    "\n",
    "Zipf's law states that given some corpus of natural language utterances, the frequency of any word is inversely proportional to its rank in the frequency table. Thus the most frequent word will occur approximately twice as often as the second most frequent word, three times as often as the third most frequent word, etc.: the rank-frequency distribution is an inverse relation. For example, in the Brown Corpus of American English text, the word the is the most frequently occurring word, and by itself accounts for nearly 7% of all word occurrences (69,971 out of slightly over 1 million). True to Zipf's Law, the second-place word of accounts for slightly over 3.5% of words (36,411 occurrences), followed by and (28,852). Only 135 vocabulary items are needed to account for half the Brown Corpus."
   ]
  },
  {
   "cell_type": "markdown",
   "metadata": {},
   "source": [
    "So instead of generating random data, a more interesting approach was considered by generating a Ziph dataset from the book __[Ulyses by the James Joyce](data/ulyses_by_james_joyce.txt)__ from first principle. "
   ]
  },
  {
   "cell_type": "code",
   "execution_count": 2,
   "metadata": {},
   "outputs": [],
   "source": [
    "import seaborn as sns\n",
    "from collections import Counter as counter\n",
    "import matplotlib.pyplot as pl\n",
    "import pandas as pd\n",
    "%matplotlib inline"
   ]
  },
  {
   "cell_type": "markdown",
   "metadata": {},
   "source": [
    "### Generating a wordlist\n",
    "\n",
    "So the text from the book is read into a word list line by line, parsed into individual words and stripped of all spaces, punctuation and case."
   ]
  },
  {
   "cell_type": "code",
   "execution_count": 3,
   "metadata": {},
   "outputs": [],
   "source": [
    "wordlist=[]\n",
    "with open('data/ulyses_by_james_joyce.txt', 'r', encoding='utf-8') as infile:\n",
    "    for line in infile:\n",
    "        words=line.strip().split()\n",
    "        for word in words:\n",
    "            wordlist.append(word.casefold().strip('[,:.]'))"
   ]
  },
  {
   "cell_type": "markdown",
   "metadata": {},
   "source": [
    "The resulting word list is then counted and a complete list of counted word generated for the entire book."
   ]
  },
  {
   "cell_type": "code",
   "execution_count": 7,
   "metadata": {},
   "outputs": [
    {
     "name": "stdout",
     "output_type": "stream",
     "text": [
      "34,986\n"
     ]
    }
   ],
   "source": [
    "wordcount=counter(wordlist)\n",
    "print('{:,}'.format(len(wordcount)))\n"
   ]
  },
  {
   "cell_type": "markdown",
   "metadata": {},
   "source": [
    "The result is almost 35 thousand unique words that is then sorted by the top most common ones and arranged in a data frame for display and easy graphing purposes."
   ]
  },
  {
   "cell_type": "code",
   "execution_count": 8,
   "metadata": {},
   "outputs": [],
   "source": [
    "most_common=wordcount.most_common(15)"
   ]
  },
  {
   "cell_type": "markdown",
   "metadata": {},
   "source": [
    "The most common word and count of the words are then assembled in a data frame __df__."
   ]
  },
  {
   "cell_type": "code",
   "execution_count": 10,
   "metadata": {},
   "outputs": [
    {
     "data": {
      "text/html": [
       "<div>\n",
       "<style scoped>\n",
       "    .dataframe tbody tr th:only-of-type {\n",
       "        vertical-align: middle;\n",
       "    }\n",
       "\n",
       "    .dataframe tbody tr th {\n",
       "        vertical-align: top;\n",
       "    }\n",
       "\n",
       "    .dataframe thead th {\n",
       "        text-align: right;\n",
       "    }\n",
       "</style>\n",
       "<table border=\"1\" class=\"dataframe\">\n",
       "  <thead>\n",
       "    <tr style=\"text-align: right;\">\n",
       "      <th></th>\n",
       "      <th>words</th>\n",
       "      <th>counts</th>\n",
       "    </tr>\n",
       "  </thead>\n",
       "  <tbody>\n",
       "    <tr>\n",
       "      <th>0</th>\n",
       "      <td>the</td>\n",
       "      <td>14888</td>\n",
       "    </tr>\n",
       "    <tr>\n",
       "      <th>1</th>\n",
       "      <td>of</td>\n",
       "      <td>8244</td>\n",
       "    </tr>\n",
       "    <tr>\n",
       "      <th>2</th>\n",
       "      <td>and</td>\n",
       "      <td>7198</td>\n",
       "    </tr>\n",
       "    <tr>\n",
       "      <th>3</th>\n",
       "      <td>a</td>\n",
       "      <td>6442</td>\n",
       "    </tr>\n",
       "    <tr>\n",
       "      <th>4</th>\n",
       "      <td>to</td>\n",
       "      <td>4983</td>\n",
       "    </tr>\n",
       "    <tr>\n",
       "      <th>5</th>\n",
       "      <td>in</td>\n",
       "      <td>4887</td>\n",
       "    </tr>\n",
       "    <tr>\n",
       "      <th>6</th>\n",
       "      <td>he</td>\n",
       "      <td>3752</td>\n",
       "    </tr>\n",
       "    <tr>\n",
       "      <th>7</th>\n",
       "      <td>his</td>\n",
       "      <td>3292</td>\n",
       "    </tr>\n",
       "    <tr>\n",
       "      <th>8</th>\n",
       "      <td>i</td>\n",
       "      <td>2527</td>\n",
       "    </tr>\n",
       "    <tr>\n",
       "      <th>9</th>\n",
       "      <td>that</td>\n",
       "      <td>2523</td>\n",
       "    </tr>\n",
       "    <tr>\n",
       "      <th>10</th>\n",
       "      <td>with</td>\n",
       "      <td>2506</td>\n",
       "    </tr>\n",
       "    <tr>\n",
       "      <th>11</th>\n",
       "      <td>it</td>\n",
       "      <td>2246</td>\n",
       "    </tr>\n",
       "    <tr>\n",
       "      <th>12</th>\n",
       "      <td>was</td>\n",
       "      <td>2117</td>\n",
       "    </tr>\n",
       "    <tr>\n",
       "      <th>13</th>\n",
       "      <td>on</td>\n",
       "      <td>2105</td>\n",
       "    </tr>\n",
       "    <tr>\n",
       "      <th>14</th>\n",
       "      <td>for</td>\n",
       "      <td>1928</td>\n",
       "    </tr>\n",
       "  </tbody>\n",
       "</table>\n",
       "</div>"
      ],
      "text/plain": [
       "   words  counts\n",
       "0    the   14888\n",
       "1     of    8244\n",
       "2    and    7198\n",
       "3      a    6442\n",
       "4     to    4983\n",
       "5     in    4887\n",
       "6     he    3752\n",
       "7    his    3292\n",
       "8      i    2527\n",
       "9   that    2523\n",
       "10  with    2506\n",
       "11    it    2246\n",
       "12   was    2117\n",
       "13    on    2105\n",
       "14   for    1928"
      ]
     },
     "execution_count": 10,
     "metadata": {},
     "output_type": "execute_result"
    }
   ],
   "source": [
    "words=[];counts=[]\n",
    "\n",
    "for word,count in most_common:\n",
    "    words.append(word); counts.append(count)\n",
    "df=pd.DataFrame({'words': words,'counts': counts});df"
   ]
  },
  {
   "cell_type": "code",
   "execution_count": 21,
   "metadata": {},
   "outputs": [
    {
     "data": {
      "image/png": "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\n",
      "text/plain": [
       "<Figure size 1296x504 with 1 Axes>"
      ]
     },
     "metadata": {},
     "output_type": "display_data"
    }
   ],
   "source": [
    "pl_size = (18, 7) # set the graph size\n",
    "fig, ax = pl.subplots(figsize=pl_size)\n",
    "sns.barplot(ax=ax,x=words,y=counts, palette=\"deep\", data=df)\n",
    "pl.show()"
   ]
  },
  {
   "cell_type": "markdown",
   "metadata": {},
   "source": [
<<<<<<< HEAD
    "### Lessons learned\n",
    "\n",
    "So really the big takeaway from this exercise in testing distributions is that the penny dropped at last and that the numpy random libraries  generates datasets that needs to be measured for their distributions using a distribution function and can also be overlaid with a distribution trend line. "
=======
    "Although not a perfect Ziphian distribution from the third term onward, it follows the pattern of most such distributions typically derived on smaller datasets."
>>>>>>> 67e9632a02264eb1f1cdb617a101d704692e4dbc
   ]
  },
  {
   "cell_type": "markdown",
   "metadata": {},
   "source": [
<<<<<<< HEAD
=======
    "\n",
>>>>>>> 67e9632a02264eb1f1cdb617a101d704692e4dbc
    "## References\n",
    "\n",
    "1. __[Numpy reference manual - numpy.random](https://docs.scipy.org/doc/numpy-1.15.1/reference/routines.random.html)__\n",
    "1. __[Cosmo Learning Video - Lecture 18 - Python Random Numbers](https://cosmolearning.org/video-lectures/python-random-number-generator-random-module/)__\n",
    "1. __[rando.Random vs numpy.Random](https://stackoverflow.com/questions/7029993/differences-between-numpy-random-and-random-random-in-python)__\n",
    "1. __[Quora - The most interesting probability distributions](https://www.quora.com/What-are-some-of-the-most-interesting-probability-distributions)__\n",
    "1. __[HDIP Probabbility Distributions Summary](http://hdip-data-analytics.com/statistics/distributions)__\n",
    "1. __[Common Probability Distributions](http://blog.cloudera.com/blog/2015/12/common-probability-distributions-the-data-scientists-crib-sheet/)__\n",
    "1. __[Random Number Generators - University Libraries - Ball State University](lib.bsu.edu/beneficencepress/mathexchange/09-01/randomnumbergenerators.pdf)__\n",
    "1. __[R. Davies, Hardware random number generators](http://www.robertnz.net/hwrng.htm)__\n",
    "1. __[A Brief History of Random Numbers](https://medium.freecodecamp.org/a-brief-history-of-random-numbers-9498737f5b6c)__\n",
    "1. __[Biography1 - Laplace](https://www.britannica.com/biography/Pierre-Simon-marquis-de-Laplace)__\n",
    "1. __[Biography2 - Laplace](http://www-groups.dcs.st-and.ac.uk/history/Biographies/Laplace.html)__\n",
<<<<<<< HEAD
    "1. __[Distributions](http://onlinestatbook.com/2/introduction/distributions.html)__\n",
=======
    "1. __[Famous Scientists - Laplace](https://www.famousscientists.org/pierre-simon-laplace/)__\n",
>>>>>>> 67e9632a02264eb1f1cdb617a101d704692e4dbc
    "1. __[]()__"
   ]
  }
 ],
 "metadata": {
  "kernelspec": {
   "display_name": "Python 3",
   "language": "python",
   "name": "python3"
  },
  "language_info": {
   "codemirror_mode": {
    "name": "ipython",
    "version": 3
   },
   "file_extension": ".py",
   "mimetype": "text/x-python",
   "name": "python",
   "nbconvert_exporter": "python",
   "pygments_lexer": "ipython3",
   "version": "3.6.6"
  }
 },
 "nbformat": 4,
 "nbformat_minor": 2
}
